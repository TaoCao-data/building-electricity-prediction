{
 "cells": [
  {
   "cell_type": "markdown",
   "metadata": {
    "slideshow": {
     "slide_type": "slide"
    }
   },
   "source": [
    "### Demo of running the notebook with full code"
   ]
  },
  {
   "cell_type": "markdown",
   "metadata": {},
   "source": [
    "**Import all modules and functions**"
   ]
  },
  {
   "cell_type": "code",
   "execution_count": 1,
   "metadata": {
    "slideshow": {
     "slide_type": "skip"
    },
    "tags": [
     "remove_cell"
    ]
   },
   "outputs": [
    {
     "data": {
      "text/html": [
       "\n",
       "    <script>\n",
       "    function code_toggle() {\n",
       "        if ($('div.cell.code_cell.rendered.selected div.input').css('display')!='none'){\n",
       "            $('div.cell.code_cell.rendered.selected div.input').hide();\n",
       "        } else {\n",
       "            $('div.cell.code_cell.rendered.selected div.input').show();\n",
       "        }\n",
       "    }\n",
       "    </script>\n",
       "\n",
       "\n",
       "<form action=\"javascript:code_toggle()\"><input type=\"submit\" id=\"toggleButton\" value=\"Show Source Code\"></form>\n"
      ],
      "text/plain": [
       "<IPython.core.display.HTML object>"
      ]
     },
     "metadata": {},
     "output_type": "display_data"
    }
   ],
   "source": [
    "from IPython.core.display import display, HTML\n",
    "toggle_code_str = '''\n",
    "<form action=\"javascript:code_toggle()\"><input type=\"submit\" id=\"toggleButton\" value=\"Show Source Code\"></form>\n",
    "'''\n",
    "\n",
    "toggle_code_prepare_str = '''\n",
    "    <script>\n",
    "    function code_toggle() {\n",
    "        if ($('div.cell.code_cell.rendered.selected div.input').css('display')!='none'){\n",
    "            $('div.cell.code_cell.rendered.selected div.input').hide();\n",
    "        } else {\n",
    "            $('div.cell.code_cell.rendered.selected div.input').show();\n",
    "        }\n",
    "    }\n",
    "    </script>\n",
    "\n",
    "'''\n",
    "\n",
    "display(HTML(toggle_code_prepare_str + toggle_code_str))\n",
    "\n",
    "def toggle_code():\n",
    "    display(HTML(toggle_code_str))\n",
    "\n",
    "# import modules\n",
    "\n",
    "import numpy as np\n",
    "import seaborn as sns\n",
    "\n",
    "import pandas as pd\n",
    "from pandas import DataFrame\n",
    "from pandas import concat\n",
    "\n",
    "from sklearn import base\n",
    "from sklearn.metrics import mean_squared_error\n",
    "from sklearn.preprocessing import StandardScaler\n",
    "\n",
    "import matplotlib.pyplot as plt\n",
    "import matplotlib.dates as mdates\n",
    "from matplotlib.cbook import boxplot_stats\n",
    "\n",
    "#%%\n",
    "# model score function\n",
    "def model_score_rmse(Y):\n",
    "    '''\n",
    "    Parameters\n",
    "    ----------\n",
    "    Y : dataframe\n",
    "        with timestamp as index, column 0 as true values, and column 1 as \n",
    "        predicted values.\n",
    "\n",
    "    Returns\n",
    "    -------\n",
    "    float value\n",
    "        RMSE.\n",
    "    '''\n",
    "    \n",
    "    metric_rmse = np.sqrt(mean_squared_error(Y[Y.columns[0]], Y[Y.columns[1]]))\n",
    "    \n",
    "    metric_cv_rmse = (metric_rmse / Y[Y.columns[0]].mean()) * 100\n",
    "    \n",
    "    return metric_rmse, metric_cv_rmse\n",
    "\n",
    "# meter reading comparison plot\n",
    "def plot_pred(Y):\n",
    "    '''\n",
    "    Parameters\n",
    "    ----------\n",
    "    Y : dataframe\n",
    "        timestamp as index, first column of true y, 2nd column of predicted y.\n",
    "\n",
    "    Returns\n",
    "    -------\n",
    "    A figure of time series plot\n",
    "\n",
    "    '''\n",
    "    \n",
    "    fig, ax = plt.subplots()\n",
    "    ax.xaxis.set_major_formatter(mdates.DateFormatter('%m-%d, %A'))\n",
    "    ax.xaxis.set_major_locator(mdates.DayLocator(interval = 1))\n",
    "    \n",
    "    ax.plot(Y.index, Y[Y.columns[0]], label = 'true')\n",
    "    ax.plot(Y.index, Y[Y.columns[1]], label = 'predicted')\n",
    "    \n",
    "    # rotate and align the tick labels so they look better\n",
    "    fig.autofmt_xdate()\n",
    "    \n",
    "    plt.xlabel('month-date')\n",
    "    plt.ylabel('hourly electricity load (kWh)')\n",
    "    plt.legend(title='load profile type')\n",
    "\n",
    "def create_time_steps(length):\n",
    "    \n",
    "    return list(range(-length, 0))\n",
    "\n",
    "def multi_step_plot(hist, true_future, prediction, baseline):\n",
    "  \n",
    "    plt.figure(figsize=(12, 6))\n",
    "    num_in = create_time_steps(len(hist))\n",
    "    num_out = len(true_future)\n",
    "    \n",
    "    plt.plot(num_in, np.expm1(hist), label='History')\n",
    "    plt.plot(np.arange(num_out), np.expm1(true_future), 'g-',\n",
    "             label='True Future')\n",
    "    \n",
    "    if prediction.any():\n",
    "      plt.plot(np.arange(num_out), np.expm1(prediction), 'ro',\n",
    "               label='Predicted Future (Proposed)')\n",
    "    \n",
    "    if baseline.any():\n",
    "      plt.plot(np.arange(num_out), np.expm1(baseline), 'bo',\n",
    "               label='Predicted Future (Baseline)')\n",
    "    \n",
    "    plt.legend(loc='upper left', prop = {'size': 14})\n",
    "    plt.xlabel('time (hour)')\n",
    "    plt.ylabel('hourly electricity load (kWh)')\n",
    "    plt.show()\n",
    "\n",
    "# add time features\n",
    "def time_feature(X):\n",
    "        ''' add time features to X, with timestamps as index '''\n",
    "        \n",
    "        X['month'] = X.index.to_series().apply(lambda x: x.month)\n",
    "        X['week'] = X.index.to_series().apply(lambda x: x.week)\n",
    "        X['day'] = X.index.to_series().apply(lambda x: x.dayofweek)\n",
    "        X['hour'] = X.index.to_series().apply(lambda x: x.hour)\n",
    "        \n",
    "        # Cyclic encoding of periodic features\n",
    "        X['hour_x'] = np.cos(2*np.pi*X['hour']/24)\n",
    "        X['hour_y'] = np.sin(2*np.pi*X['hour']/24)\n",
    "        \n",
    "        return X\n",
    "\n",
    "class X_preprocessor(base.BaseEstimator, base.TransformerMixin):\n",
    "    \n",
    "    # count missing values\n",
    "    def count_miss(self, X):\n",
    "        ''' return a dataframe of missing counts and percentage\n",
    "        for each feature'''\n",
    "    \n",
    "        total = X.isnull().sum().sort_values(ascending=False)\n",
    "        ratio = (X.isnull().sum()/X.isnull().count()).sort_values(ascending=False)\n",
    "        missing_data = pd.concat([total, ratio], axis=1, keys=['Total', 'Ratio'])\n",
    "        \n",
    "        return missing_data\n",
    "    \n",
    "    # linear interpolate of missing values\n",
    "    def linear_interpolate_miss(self, X, lst):\n",
    "        ''' linear interpolate missing features given in lst '''\n",
    "        \n",
    "        for ele in lst:\n",
    "            X[ele] = X[ele].interpolate(method='linear', limit_direction='forward', axis=0)\n",
    "        \n",
    "        return X      \n",
    "    \n",
    "    # add time features\n",
    "    def time_feature(self, X):\n",
    "        ''' add time features to X, with timestamps as index '''\n",
    "        \n",
    "        X['month'] = X.index.to_series().apply(lambda x: x.month)\n",
    "        X['week'] = X.index.to_series().apply(lambda x: x.week)\n",
    "        X['day'] = X.index.to_series().apply(lambda x: x.dayofweek)\n",
    "        X['hour'] = X.index.to_series().apply(lambda x: x.hour)\n",
    "        \n",
    "        # Cyclic encoding of periodic features\n",
    "        X['hour_x'] = np.cos(2*np.pi*X['hour']/24)\n",
    "        X['hour_y'] = np.sin(2*np.pi*X['hour']/24)\n",
    "        \n",
    "        return X\n",
    "    \n",
    "    def fit(self, X, y=None):\n",
    "        # This transformer doesn't need to learn anything about the data,\n",
    "        # so it can just return self without any further processing\n",
    "        return self\n",
    "    \n",
    "    def transform(self, X):\n",
    "        # Return an array with the same number of rows as X and transformed columns\n",
    "        \n",
    "        # drop not needed columns\n",
    "        X = X.drop(['meter'], axis = 1)\n",
    "        # sort by building id, then timestamp, ready for missing value handling\n",
    "        X = X.sort_values(by = ['building_id', 'timestamp'])\n",
    "        \n",
    "        # check missing stats\n",
    "        missing_data = self.count_miss(X)\n",
    "\n",
    "        # remove high missing percentage features (precip_depth_1_hr)\n",
    "        X = X.drop(['precip_depth_1_hr'], axis = 1)\n",
    "        \n",
    "        # remove high missing percentage features (cloud_coverage)\n",
    "        X = X.drop(['cloud_coverage'], axis = 1)\n",
    "        \n",
    "        # replace with median (sea_level_pressure)\n",
    "        X['sea_level_pressure'] = X['sea_level_pressure']. \\\n",
    "            apply(pd.to_numeric, errors='coerce').fillna(X['sea_level_pressure'].median())\n",
    "        \n",
    "        # linear interpolation of all missing features (< 1.7%)\n",
    "        lst = list(missing_data.index.values[3:7])\n",
    "        X = self.linear_interpolate_miss(X, lst)\n",
    "        \n",
    "        \n",
    "        # add time features\n",
    "        X = self.time_feature(X)\n",
    "        \n",
    "        # dummy values for categorical features\n",
    "        cat_features = ['site_id', 'primary_use']\n",
    "        X = pd.get_dummies(X, columns = cat_features)\n",
    "        \n",
    "        return X\n",
    "\n",
    "class X_num_scaler(base.BaseEstimator, base.TransformerMixin):\n",
    "    \n",
    "    def __init__(self, num_cols, scaler):\n",
    "        self.num_cols = num_cols  # We will need these in transform()\n",
    "        self.scaler = scaler\n",
    "    \n",
    "    def fit(self, X, y=None):\n",
    "        # scaler fit to numerical columns\n",
    "        \n",
    "        # cat and num dataframe\n",
    "        num = X[self.num_cols]\n",
    "                \n",
    "        return self.scaler.fit(num)\n",
    "    \n",
    "    def transform(self, X):\n",
    "        # Return an array with the same number of rows as X and scaled\n",
    "        # numerical columns, unchanged categorical columns\n",
    "        \n",
    "        # cat and num dataframe\n",
    "        num = X[self.num_cols]\n",
    "        cat = X.drop([self.num_cols[i] for i in range(len(self.num_cols))], axis = 1)\n",
    "        \n",
    "        # transform numerical features\n",
    "        num_scaled = pd.DataFrame(self.scaler.transform(num)).set_index(num.index)\n",
    "        num_scaled.columns = num.columns\n",
    "        \n",
    "        # concat back with cat features\n",
    "        X_scaled = pd.concat([num_scaled, cat], axis=1)\n",
    "        \n",
    "        return X_scaled\n",
    "\n",
    "# Series to supervised learning\n",
    "def series_to_supervised(data, n_in=1, n_out=1, dropnan=True):\n",
    "\t\"\"\"\n",
    "\tFrame a time series as a supervised learning dataset.\n",
    "\tArguments:\n",
    "\t\tdata: Sequence of observations as a list or NumPy array.\n",
    "\t\tn_in: Number of lag observations as input (X).\n",
    "\t\tn_out: Number of observations as output (y).\n",
    "\t\tdropnan: Boolean whether or not to drop rows with NaN values.\n",
    "\tReturns:\n",
    "\t\tPandas DataFrame of series framed for supervised learning.\n",
    "\t\"\"\"\n",
    "\tn_vars = 1 if type(data) is list else data.shape[1]\n",
    "\tdf = DataFrame(data)\n",
    "\tcols, names = list(), list()\n",
    "    \n",
    "\t# input sequence (t-n, ... t-1)\n",
    "\tfor i in range(n_in, 0, -1):\n",
    "\t\tcols.append(df.shift(i))\n",
    "\t\tnames += [('var%d(t-%d)' % (j+1, i)) for j in range(n_vars)]\n",
    "        \n",
    "\t# forecast sequence (t, t+1, ... t+n)\n",
    "\tfor i in range(0, n_out):\n",
    "\t\tcols.append(df.shift(-i))\n",
    "\t\tif i == 0:\n",
    "\t\t\tnames += [('var%d(t)' % (j+1)) for j in range(n_vars)]\n",
    "\t\telse:\n",
    "\t\t\tnames += [('var%d(t+%d)' % (j+1, i)) for j in range(n_vars)]\n",
    "\t\n",
    "    # put it all together\n",
    "\tagg = concat(cols, axis=1)\n",
    "\tagg.columns = names\n",
    "\t\n",
    "    # drop rows with NaN values\n",
    "\tif dropnan:\n",
    "\t\tagg.dropna(inplace=True)\n",
    "    \n",
    "\treturn agg\n",
    "\n",
    "# plot model convergence\n",
    "def plot_train_history(history, title):\n",
    "  loss = history.history['loss']\n",
    "  val_loss = history.history['val_loss']\n",
    "\n",
    "  epochs = range(len(loss))\n",
    "\n",
    "  plt.figure()\n",
    "\n",
    "  plt.plot(epochs, loss, 'b', label='Training loss')\n",
    "  plt.plot(epochs, val_loss, 'r', label='Validation loss')\n",
    "  plt.title(title)\n",
    "  plt.legend()\n",
    "\n",
    "  plt.show()\n",
    "\n",
    "def create_Y_triplets(df_test_reframed, y_test, y_test_hat, n_features, n_lag_hours, i):\n",
    "    \n",
    "    hist = test_reframed.values[i, [n_features * k for k in range(n_lag_hours)]]\n",
    "    truth = np.concatenate( y_test, axis=0 )\n",
    "    pred = np.concatenate( y_test_hat, axis=0 )\n",
    "    \n",
    "    return hist, truth, pred\n",
    "\n",
    "def baseline_predict(df_train, df_test, n_lag_hours, d_pre_days, hist_reps):\n",
    "    \n",
    "    base = []\n",
    "    \n",
    "    t_pred = df_test.iloc[n_lag_hours : n_lag_hours + d_pre_days * 24, :].index\n",
    "    \n",
    "    for i in range(hist_reps):\n",
    "        \n",
    "        t_baseline_hist = t_pred - pd.to_timedelta( 7 * (i + 1), unit = 'days')\n",
    "        \n",
    "        base.append (df_train.loc[t_baseline_hist]['meter_reading'].values)\n",
    "\n",
    "    return np.mean(np.array(base), axis = 0)"
   ]
  },
  {
   "cell_type": "markdown",
   "metadata": {},
   "source": [
    "**Defind your inputs**\n",
    "* 1. d_lag: past days used for prediction\n",
    "* 2. d_pre: days (or hours, if it is less than 1) the model predicts. Suggested values are *1 hour or 3 hours*. Default is 3 hours.\n",
    "* 3. d_pre_days: days you would like to predict. Suggested values are *1 day, 2 day or 3 days*. Default is 1 day.\n",
    "* 4. raw_data: sample raw data (pickle file) --> 1 year electric load files of one building"
   ]
  },
  {
   "cell_type": "code",
   "execution_count": 2,
   "metadata": {},
   "outputs": [],
   "source": [
    "#%%\n",
    "# model settings (CHECK THESE EVERYTIME RUN THE PROGRAM)\n",
    "\n",
    "d_lag = 5\n",
    "\n",
    "d_pre = 3/24\n",
    "\n",
    "d_pre_days = 1\n",
    "\n",
    "df_bldg = pd.read_pickle(\"./raw_data.pkl\")"
   ]
  },
  {
   "cell_type": "markdown",
   "metadata": {},
   "source": [
    "**A peek into the raw data**"
   ]
  },
  {
   "cell_type": "code",
   "execution_count": 3,
   "metadata": {},
   "outputs": [
    {
     "data": {
      "text/html": [
       "\n",
       "<form action=\"javascript:code_toggle()\"><input type=\"submit\" id=\"toggleButton\" value=\"Show Source Code\"></form>\n"
      ],
      "text/plain": [
       "<IPython.core.display.HTML object>"
      ]
     },
     "metadata": {},
     "output_type": "display_data"
    },
    {
     "data": {
      "text/html": [
       "<div>\n",
       "<style scoped>\n",
       "    .dataframe tbody tr th:only-of-type {\n",
       "        vertical-align: middle;\n",
       "    }\n",
       "\n",
       "    .dataframe tbody tr th {\n",
       "        vertical-align: top;\n",
       "    }\n",
       "\n",
       "    .dataframe thead th {\n",
       "        text-align: right;\n",
       "    }\n",
       "</style>\n",
       "<table border=\"1\" class=\"dataframe\">\n",
       "  <thead>\n",
       "    <tr style=\"text-align: right;\">\n",
       "      <th></th>\n",
       "      <th>building_id</th>\n",
       "      <th>meter</th>\n",
       "      <th>meter_reading</th>\n",
       "      <th>site_id</th>\n",
       "      <th>primary_use</th>\n",
       "      <th>square_feet</th>\n",
       "      <th>year_built</th>\n",
       "      <th>floor_count</th>\n",
       "      <th>air_temperature</th>\n",
       "      <th>cloud_coverage</th>\n",
       "      <th>dew_temperature</th>\n",
       "      <th>precip_depth_1_hr</th>\n",
       "      <th>sea_level_pressure</th>\n",
       "      <th>wind_direction</th>\n",
       "      <th>wind_speed</th>\n",
       "    </tr>\n",
       "    <tr>\n",
       "      <th>timestamp</th>\n",
       "      <th></th>\n",
       "      <th></th>\n",
       "      <th></th>\n",
       "      <th></th>\n",
       "      <th></th>\n",
       "      <th></th>\n",
       "      <th></th>\n",
       "      <th></th>\n",
       "      <th></th>\n",
       "      <th></th>\n",
       "      <th></th>\n",
       "      <th></th>\n",
       "      <th></th>\n",
       "      <th></th>\n",
       "      <th></th>\n",
       "    </tr>\n",
       "  </thead>\n",
       "  <tbody>\n",
       "    <tr>\n",
       "      <th>2016-01-01 00:00:00</th>\n",
       "      <td>148</td>\n",
       "      <td>0</td>\n",
       "      <td>47.2</td>\n",
       "      <td>1</td>\n",
       "      <td>3</td>\n",
       "      <td>174601</td>\n",
       "      <td>1960.0</td>\n",
       "      <td>12.0</td>\n",
       "      <td>3.8</td>\n",
       "      <td>NaN</td>\n",
       "      <td>2.4</td>\n",
       "      <td>NaN</td>\n",
       "      <td>1020.9</td>\n",
       "      <td>240.0</td>\n",
       "      <td>3.1</td>\n",
       "    </tr>\n",
       "    <tr>\n",
       "      <th>2016-01-01 01:00:00</th>\n",
       "      <td>148</td>\n",
       "      <td>0</td>\n",
       "      <td>94.3</td>\n",
       "      <td>1</td>\n",
       "      <td>3</td>\n",
       "      <td>174601</td>\n",
       "      <td>1960.0</td>\n",
       "      <td>12.0</td>\n",
       "      <td>3.7</td>\n",
       "      <td>0.0</td>\n",
       "      <td>2.4</td>\n",
       "      <td>NaN</td>\n",
       "      <td>1021.6</td>\n",
       "      <td>230.0</td>\n",
       "      <td>2.6</td>\n",
       "    </tr>\n",
       "    <tr>\n",
       "      <th>2016-01-01 02:00:00</th>\n",
       "      <td>148</td>\n",
       "      <td>0</td>\n",
       "      <td>94.6</td>\n",
       "      <td>1</td>\n",
       "      <td>3</td>\n",
       "      <td>174601</td>\n",
       "      <td>1960.0</td>\n",
       "      <td>12.0</td>\n",
       "      <td>2.6</td>\n",
       "      <td>0.0</td>\n",
       "      <td>1.9</td>\n",
       "      <td>NaN</td>\n",
       "      <td>1021.9</td>\n",
       "      <td>0.0</td>\n",
       "      <td>0.0</td>\n",
       "    </tr>\n",
       "    <tr>\n",
       "      <th>2016-01-01 03:00:00</th>\n",
       "      <td>148</td>\n",
       "      <td>0</td>\n",
       "      <td>95.1</td>\n",
       "      <td>1</td>\n",
       "      <td>3</td>\n",
       "      <td>174601</td>\n",
       "      <td>1960.0</td>\n",
       "      <td>12.0</td>\n",
       "      <td>2.0</td>\n",
       "      <td>0.0</td>\n",
       "      <td>1.2</td>\n",
       "      <td>NaN</td>\n",
       "      <td>1022.3</td>\n",
       "      <td>170.0</td>\n",
       "      <td>1.5</td>\n",
       "    </tr>\n",
       "    <tr>\n",
       "      <th>2016-01-01 04:00:00</th>\n",
       "      <td>148</td>\n",
       "      <td>0</td>\n",
       "      <td>93.5</td>\n",
       "      <td>1</td>\n",
       "      <td>3</td>\n",
       "      <td>174601</td>\n",
       "      <td>1960.0</td>\n",
       "      <td>12.0</td>\n",
       "      <td>2.3</td>\n",
       "      <td>0.0</td>\n",
       "      <td>1.8</td>\n",
       "      <td>NaN</td>\n",
       "      <td>1022.7</td>\n",
       "      <td>110.0</td>\n",
       "      <td>1.5</td>\n",
       "    </tr>\n",
       "  </tbody>\n",
       "</table>\n",
       "</div>"
      ],
      "text/plain": [
       "                     building_id  meter  meter_reading  site_id  primary_use  \\\n",
       "timestamp                                                                      \n",
       "2016-01-01 00:00:00          148      0           47.2        1            3   \n",
       "2016-01-01 01:00:00          148      0           94.3        1            3   \n",
       "2016-01-01 02:00:00          148      0           94.6        1            3   \n",
       "2016-01-01 03:00:00          148      0           95.1        1            3   \n",
       "2016-01-01 04:00:00          148      0           93.5        1            3   \n",
       "\n",
       "                     square_feet  year_built  floor_count  air_temperature  \\\n",
       "timestamp                                                                    \n",
       "2016-01-01 00:00:00       174601      1960.0         12.0              3.8   \n",
       "2016-01-01 01:00:00       174601      1960.0         12.0              3.7   \n",
       "2016-01-01 02:00:00       174601      1960.0         12.0              2.6   \n",
       "2016-01-01 03:00:00       174601      1960.0         12.0              2.0   \n",
       "2016-01-01 04:00:00       174601      1960.0         12.0              2.3   \n",
       "\n",
       "                     cloud_coverage  dew_temperature  precip_depth_1_hr  \\\n",
       "timestamp                                                                 \n",
       "2016-01-01 00:00:00             NaN              2.4                NaN   \n",
       "2016-01-01 01:00:00             0.0              2.4                NaN   \n",
       "2016-01-01 02:00:00             0.0              1.9                NaN   \n",
       "2016-01-01 03:00:00             0.0              1.2                NaN   \n",
       "2016-01-01 04:00:00             0.0              1.8                NaN   \n",
       "\n",
       "                     sea_level_pressure  wind_direction  wind_speed  \n",
       "timestamp                                                            \n",
       "2016-01-01 00:00:00              1020.9           240.0         3.1  \n",
       "2016-01-01 01:00:00              1021.6           230.0         2.6  \n",
       "2016-01-01 02:00:00              1021.9             0.0         0.0  \n",
       "2016-01-01 03:00:00              1022.3           170.0         1.5  \n",
       "2016-01-01 04:00:00              1022.7           110.0         1.5  "
      ]
     },
     "execution_count": 3,
     "metadata": {},
     "output_type": "execute_result"
    }
   ],
   "source": [
    "toggle_code()\n",
    "\n",
    "df_bldg.head()"
   ]
  },
  {
   "cell_type": "markdown",
   "metadata": {},
   "source": [
    "**A further investigation of the load profiles:**\n",
    "\n",
    "Lots of zeros while high meter readings, a natural way is log transformation"
   ]
  },
  {
   "cell_type": "code",
   "execution_count": 4,
   "metadata": {},
   "outputs": [
    {
     "data": {
      "text/html": [
       "\n",
       "<form action=\"javascript:code_toggle()\"><input type=\"submit\" id=\"toggleButton\" value=\"Show Source Code\"></form>\n"
      ],
      "text/plain": [
       "<IPython.core.display.HTML object>"
      ]
     },
     "metadata": {},
     "output_type": "display_data"
    },
    {
     "name": "stdout",
     "output_type": "stream",
     "text": [
      "       meter_reading\n",
      "count    8784.000000\n",
      "mean      200.938410\n",
      "std        90.185951\n",
      "min         2.489800\n",
      "25%       133.800000\n",
      "50%       172.700000\n",
      "75%       280.525000\n",
      "max       497.700000\n"
     ]
    },
    {
     "data": {
      "image/png": "[encoded data removed]",
      "text/plain": [
       "<Figure size 432x288 with 1 Axes>"
      ]
     },
     "metadata": {
      "needs_background": "light"
     },
     "output_type": "display_data"
    }
   ],
   "source": [
    "toggle_code()\n",
    "\n",
    "#%%\n",
    "# Y values investigation\n",
    "X = df_bldg.drop(['meter_reading'], axis = 1)\n",
    "Y = df_bldg.loc[:, ['meter_reading']]\n",
    "\n",
    "# stats\n",
    "print(Y.describe())\n",
    "\n",
    "# target transformations\n",
    "Y['meter_reading_log_transformed'] = np.log1p(Y['meter_reading'])\n",
    "\n",
    "# distplot and boxplot for outlier detections\n",
    "sns.boxplot(Y['meter_reading_log_transformed'], showfliers = True)    \n",
    "\n",
    "# find outliers\n",
    "outliers = [y for stat in boxplot_stats(Y['meter_reading_log_transformed']) for y in stat['fliers']]"
   ]
  },
  {
   "cell_type": "markdown",
   "metadata": {},
   "source": [
    "**Split the data into train and test set**"
   ]
  },
  {
   "cell_type": "code",
   "execution_count": 5,
   "metadata": {},
   "outputs": [
    {
     "data": {
      "text/html": [
       "\n",
       "<form action=\"javascript:code_toggle()\"><input type=\"submit\" id=\"toggleButton\" value=\"Show Source Code\"></form>\n"
      ],
      "text/plain": [
       "<IPython.core.display.HTML object>"
      ]
     },
     "metadata": {},
     "output_type": "display_data"
    }
   ],
   "source": [
    "toggle_code()\n",
    "\n",
    "patience_turn = 60\n",
    "\n",
    "# define days used for training\n",
    "n_train_days = 280\n",
    "\n",
    "# define historic hours used for predictions\n",
    "n_lag_hours = int(24 * d_lag)\n",
    "\n",
    "# define hours in the future for predictions\n",
    "n_pre_hours = int(24 * d_pre)\n",
    "\n",
    "# training hours based on days for training\n",
    "n_train_hours = 24 * n_train_days\n",
    "\n",
    "#%%\n",
    "# train & test split\n",
    "\n",
    "train = df_bldg.iloc[:n_train_hours, :]\n",
    "test = df_bldg.iloc[n_train_hours-n_lag_hours:, :]\n",
    "\n",
    "train_X = train.drop(['meter_reading'], axis = 1)\n",
    "train_Y = train.loc[:, ['meter_reading']]\n",
    "\n",
    "test_X = test.drop(['meter_reading'], axis = 1)\n",
    "test_Y = test.loc[:, ['meter_reading']]"
   ]
  },
  {
   "cell_type": "markdown",
   "metadata": {},
   "source": [
    "**Preprocess train and test set:**\n",
    "* Handling missing values\n",
    "* Dealing with outliers\n",
    "* Feature engineering\n",
    "* Normalizations"
   ]
  },
  {
   "cell_type": "code",
   "execution_count": 6,
   "metadata": {},
   "outputs": [
    {
     "data": {
      "text/html": [
       "\n",
       "<form action=\"javascript:code_toggle()\"><input type=\"submit\" id=\"toggleButton\" value=\"Show Source Code\"></form>\n"
      ],
      "text/plain": [
       "<IPython.core.display.HTML object>"
      ]
     },
     "metadata": {},
     "output_type": "display_data"
    }
   ],
   "source": [
    "toggle_code()\n",
    "\n",
    "#%%\n",
    "# train set preparation\n",
    "\n",
    "# initialize preprocessor\n",
    "preprocessor = X_preprocessor()\n",
    "# preprocess X_train\n",
    "train_X_preprocessed = preprocessor.transform(train_X)\n",
    "\n",
    "# initialize scaler\n",
    "num_cols = list(train_X_preprocessed.columns[:15])\n",
    "scaler = X_num_scaler(num_cols, StandardScaler())\n",
    "\n",
    "# fit and transform X_train\n",
    "scaler.fit(train_X_preprocessed)\n",
    "train_X_scaled = scaler.transform(train_X_preprocessed)\n",
    "\n",
    "# log transform of Y_train\n",
    "train_Y_scaled = np.log1p(train_Y)\n",
    "\n",
    "# concat for transformed and scaled train set\n",
    "train_scaled = pd.concat([train_Y_scaled, train_X_scaled], axis = 1)\n",
    "\n",
    "\n",
    "#%%\n",
    "# test set preparation\n",
    "\n",
    "# initialize preprocessor\n",
    "preprocessor = X_preprocessor()\n",
    "# preprocess X_test\n",
    "test_X_preprocessed = preprocessor.transform(test_X)\n",
    "\n",
    "# initialize scaler\n",
    "num_cols = list(test_X_preprocessed.columns[:15])\n",
    "# transform X_test\n",
    "test_X_scaled = scaler.transform(test_X_preprocessed)\n",
    "\n",
    "# log transform of Y_test\n",
    "test_Y_scaled = np.log1p(test_Y)\n",
    "\n",
    "# concat for transformed and scaled train set\n",
    "test_scaled = pd.concat([test_Y_scaled, test_X_scaled], axis = 1)"
   ]
  },
  {
   "cell_type": "markdown",
   "metadata": {},
   "source": [
    "**Time to feed the data into the pipeline**\n",
    "\n",
    "* First, set up the hyperparameter search with Keras-tuner."
   ]
  },
  {
   "cell_type": "code",
   "execution_count": 7,
   "metadata": {},
   "outputs": [
    {
     "data": {
      "text/html": [
       "\n",
       "<form action=\"javascript:code_toggle()\"><input type=\"submit\" id=\"toggleButton\" value=\"Show Source Code\"></form>\n"
      ],
      "text/plain": [
       "<IPython.core.display.HTML object>"
      ]
     },
     "metadata": {},
     "output_type": "display_data"
    },
    {
     "name": "stdout",
     "output_type": "stream",
     "text": [
      "Model: \"sequential\"\n",
      "_________________________________________________________________\n",
      "Layer (type)                 Output Shape              Param #   \n",
      "=================================================================\n",
      "lstm (LSTM)                  (None, 120, 32)           6528      \n",
      "_________________________________________________________________\n",
      "dropout (Dropout)            (None, 120, 32)           0         \n",
      "_________________________________________________________________\n",
      "lstm_1 (LSTM)                (None, 32)                8320      \n",
      "_________________________________________________________________\n",
      "dropout_1 (Dropout)          (None, 32)                0         \n",
      "_________________________________________________________________\n",
      "dense (Dense)                (None, 3)                 99        \n",
      "=================================================================\n",
      "Total params: 14,947\n",
      "Trainable params: 14,947\n",
      "Non-trainable params: 0\n",
      "_________________________________________________________________\n"
     ]
    }
   ],
   "source": [
    "toggle_code()\n",
    "\n",
    "#%%\n",
    "# reframe train set\n",
    "\n",
    "n_features = train_scaled.shape[1]\n",
    "\n",
    "train_reframed = series_to_supervised(train_scaled, \n",
    "                                      n_lag_hours, n_pre_hours)\n",
    "\n",
    "n_obs = n_lag_hours * n_features\n",
    "\n",
    "# split into input and outputs\n",
    "\n",
    "x_train, y_train = train_reframed.values[:, :n_obs], \\\n",
    "    train_reframed.values[:, [-n_features * (n_pre_hours - i) for i in range(n_pre_hours)]]\n",
    "\n",
    "# reshape input to be 3D [samples, timesteps, features]\n",
    "x_train = x_train.reshape((x_train.shape[0], n_lag_hours, n_features))\n",
    "\n",
    "# print(x_train.shape, y_train.shape)\n",
    "\n",
    "import tensorflow as tf\n",
    "\n",
    "def build_model(hp):\n",
    "     \n",
    "    model = tf.keras.models.Sequential()\n",
    "    model.add(tf.keras.layers.LSTM(units=hp.Int('units', min_value=32, max_value=128, step=16), \n",
    "                                   return_sequences=True, input_shape=(x_train.shape[1], x_train.shape[2])))\n",
    "    model.add(tf.keras.layers.Dropout(0.2))\n",
    "\n",
    "    model.add(tf.keras.layers.LSTM(units=hp.Int('units', min_value=16, max_value=96, step=16)))\n",
    "    model.add(tf.keras.layers.Dropout(0.2))\n",
    "\n",
    "    model.add(tf.keras.layers.Dense(n_pre_hours))\n",
    "\n",
    "    model.summary()\n",
    "\n",
    "    model.compile(loss='mse', optimizer = tf.keras.optimizers.Adam(hp.Choice('learning_rate', values=[1e-2, 1e-3, 1e-4])))\n",
    "    \n",
    "    return model\n",
    "\n",
    "import kerastuner\n",
    "\n",
    "project_path = '{}d_{}d'.format(d_lag, d_pre)\n",
    "\n",
    "tuner = kerastuner.tuners.Hyperband(build_model, objective='val_loss', max_epochs = 1000, \n",
    "                                    directory='hypertuned', project_name = project_path)"
   ]
  },
  {
   "cell_type": "markdown",
   "metadata": {},
   "source": [
    "* A summary of hyperparameter search (based on which we will finalize our LSTM model structure)"
   ]
  },
  {
   "cell_type": "code",
   "execution_count": 8,
   "metadata": {
    "scrolled": true
   },
   "outputs": [
    {
     "data": {
      "text/html": [
       "\n",
       "<form action=\"javascript:code_toggle()\"><input type=\"submit\" id=\"toggleButton\" value=\"Show Source Code\"></form>\n"
      ],
      "text/plain": [
       "<IPython.core.display.HTML object>"
      ]
     },
     "metadata": {},
     "output_type": "display_data"
    },
    {
     "name": "stdout",
     "output_type": "stream",
     "text": [
      "Model: \"sequential\"\n",
      "_________________________________________________________________\n",
      "Layer (type)                 Output Shape              Param #   \n",
      "=================================================================\n",
      "lstm (LSTM)                  (None, 120, 80)           31680     \n",
      "_________________________________________________________________\n",
      "dropout (Dropout)            (None, 120, 80)           0         \n",
      "_________________________________________________________________\n",
      "lstm_1 (LSTM)                (None, 80)                51520     \n",
      "_________________________________________________________________\n",
      "dropout_1 (Dropout)          (None, 80)                0         \n",
      "_________________________________________________________________\n",
      "dense (Dense)                (None, 3)                 243       \n",
      "=================================================================\n",
      "Total params: 83,443\n",
      "Trainable params: 83,443\n",
      "Non-trainable params: 0\n",
      "_________________________________________________________________\n"
     ]
    },
    {
     "data": {
      "text/html": [
       "<span style=\"color:#4527A0\"><h1 style=\"font-size:18px\">Trial complete</h1></span>"
      ],
      "text/plain": [
       "<IPython.core.display.HTML object>"
      ]
     },
     "metadata": {},
     "output_type": "display_data"
    },
    {
     "data": {
      "text/html": [
       "<span style=\"color:#4527A0\"><h1 style=\"font-size:18px\">Trial summary</h1></span>"
      ],
      "text/plain": [
       "<IPython.core.display.HTML object>"
      ]
     },
     "metadata": {},
     "output_type": "display_data"
    },
    {
     "data": {
      "text/html": [
       "<span style=\"color:cyan\"> |-Trial ID: f270e30a57aa40e0a5e896a37edc38c0</span>"
      ],
      "text/plain": [
       "<IPython.core.display.HTML object>"
      ]
     },
     "metadata": {},
     "output_type": "display_data"
    },
    {
     "data": {
      "text/html": [
       "<span style=\"color:cyan\"> |-Score: 0.04633069410920143</span>"
      ],
      "text/plain": [
       "<IPython.core.display.HTML object>"
      ]
     },
     "metadata": {},
     "output_type": "display_data"
    },
    {
     "data": {
      "text/html": [
       "<span style=\"color:cyan\"> |-Best step: 0</span>"
      ],
      "text/plain": [
       "<IPython.core.display.HTML object>"
      ]
     },
     "metadata": {},
     "output_type": "display_data"
    },
    {
     "data": {
      "text/html": [
       "<span style=\"color:#7E57C2\"><h2 style=\"font-size:16px\">Hyperparameters:</h2></span>"
      ],
      "text/plain": [
       "<IPython.core.display.HTML object>"
      ]
     },
     "metadata": {},
     "output_type": "display_data"
    },
    {
     "data": {
      "text/html": [
       "<span style=\"color:cyan\"> |-learning_rate: 0.01</span>"
      ],
      "text/plain": [
       "<IPython.core.display.HTML object>"
      ]
     },
     "metadata": {},
     "output_type": "display_data"
    },
    {
     "data": {
      "text/html": [
       "<span style=\"color:blue\"> |-tuner/bracket: 6</span>"
      ],
      "text/plain": [
       "<IPython.core.display.HTML object>"
      ]
     },
     "metadata": {},
     "output_type": "display_data"
    },
    {
     "data": {
      "text/html": [
       "<span style=\"color:cyan\"> |-tuner/epochs: 2</span>"
      ],
      "text/plain": [
       "<IPython.core.display.HTML object>"
      ]
     },
     "metadata": {},
     "output_type": "display_data"
    },
    {
     "data": {
      "text/html": [
       "<span style=\"color:blue\"> |-tuner/initial_epoch: 0</span>"
      ],
      "text/plain": [
       "<IPython.core.display.HTML object>"
      ]
     },
     "metadata": {},
     "output_type": "display_data"
    },
    {
     "data": {
      "text/html": [
       "<span style=\"color:cyan\"> |-tuner/round: 0</span>"
      ],
      "text/plain": [
       "<IPython.core.display.HTML object>"
      ]
     },
     "metadata": {},
     "output_type": "display_data"
    },
    {
     "data": {
      "text/html": [
       "<span style=\"color:blue\"> |-units: 80</span>"
      ],
      "text/plain": [
       "<IPython.core.display.HTML object>"
      ]
     },
     "metadata": {},
     "output_type": "display_data"
    },
    {
     "name": "stdout",
     "output_type": "stream",
     "text": [
      "Model: \"sequential\"\n",
      "_________________________________________________________________\n",
      "Layer (type)                 Output Shape              Param #   \n",
      "=================================================================\n",
      "lstm (LSTM)                  (None, 120, 112)          58688     \n",
      "_________________________________________________________________\n",
      "dropout (Dropout)            (None, 120, 112)          0         \n",
      "_________________________________________________________________\n",
      "lstm_1 (LSTM)                (None, 112)               100800    \n",
      "_________________________________________________________________\n",
      "dropout_1 (Dropout)          (None, 112)               0         \n",
      "_________________________________________________________________\n",
      "dense (Dense)                (None, 3)                 339       \n",
      "=================================================================\n",
      "Total params: 159,827\n",
      "Trainable params: 159,827\n",
      "Non-trainable params: 0\n",
      "_________________________________________________________________\n"
     ]
    },
    {
     "data": {
      "text/html": [
       "<span style=\"color:#4527A0\"><h1 style=\"font-size:18px\">Trial complete</h1></span>"
      ],
      "text/plain": [
       "<IPython.core.display.HTML object>"
      ]
     },
     "metadata": {},
     "output_type": "display_data"
    },
    {
     "data": {
      "text/html": [
       "<span style=\"color:#4527A0\"><h1 style=\"font-size:18px\">Trial summary</h1></span>"
      ],
      "text/plain": [
       "<IPython.core.display.HTML object>"
      ]
     },
     "metadata": {},
     "output_type": "display_data"
    },
    {
     "data": {
      "text/html": [
       "<span style=\"color:cyan\"> |-Trial ID: ad3afa502e127176b71d0841d71bbbb8</span>"
      ],
      "text/plain": [
       "<IPython.core.display.HTML object>"
      ]
     },
     "metadata": {},
     "output_type": "display_data"
    },
    {
     "data": {
      "text/html": [
       "<span style=\"color:cyan\"> |-Score: 0.03952391445636749</span>"
      ],
      "text/plain": [
       "<IPython.core.display.HTML object>"
      ]
     },
     "metadata": {},
     "output_type": "display_data"
    },
    {
     "data": {
      "text/html": [
       "<span style=\"color:cyan\"> |-Best step: 0</span>"
      ],
      "text/plain": [
       "<IPython.core.display.HTML object>"
      ]
     },
     "metadata": {},
     "output_type": "display_data"
    },
    {
     "data": {
      "text/html": [
       "<span style=\"color:#7E57C2\"><h2 style=\"font-size:16px\">Hyperparameters:</h2></span>"
      ],
      "text/plain": [
       "<IPython.core.display.HTML object>"
      ]
     },
     "metadata": {},
     "output_type": "display_data"
    },
    {
     "data": {
      "text/html": [
       "<span style=\"color:cyan\"> |-learning_rate: 0.001</span>"
      ],
      "text/plain": [
       "<IPython.core.display.HTML object>"
      ]
     },
     "metadata": {},
     "output_type": "display_data"
    },
    {
     "data": {
      "text/html": [
       "<span style=\"color:blue\"> |-tuner/bracket: 6</span>"
      ],
      "text/plain": [
       "<IPython.core.display.HTML object>"
      ]
     },
     "metadata": {},
     "output_type": "display_data"
    },
    {
     "data": {
      "text/html": [
       "<span style=\"color:cyan\"> |-tuner/epochs: 2</span>"
      ],
      "text/plain": [
       "<IPython.core.display.HTML object>"
      ]
     },
     "metadata": {},
     "output_type": "display_data"
    },
    {
     "data": {
      "text/html": [
       "<span style=\"color:blue\"> |-tuner/initial_epoch: 0</span>"
      ],
      "text/plain": [
       "<IPython.core.display.HTML object>"
      ]
     },
     "metadata": {},
     "output_type": "display_data"
    },
    {
     "data": {
      "text/html": [
       "<span style=\"color:cyan\"> |-tuner/round: 0</span>"
      ],
      "text/plain": [
       "<IPython.core.display.HTML object>"
      ]
     },
     "metadata": {},
     "output_type": "display_data"
    },
    {
     "data": {
      "text/html": [
       "<span style=\"color:blue\"> |-units: 112</span>"
      ],
      "text/plain": [
       "<IPython.core.display.HTML object>"
      ]
     },
     "metadata": {},
     "output_type": "display_data"
    },
    {
     "name": "stdout",
     "output_type": "stream",
     "text": [
      "Model: \"sequential\"\n",
      "_________________________________________________________________\n",
      "Layer (type)                 Output Shape              Param #   \n",
      "=================================================================\n",
      "lstm (LSTM)                  (None, 120, 64)           21248     \n",
      "_________________________________________________________________\n",
      "dropout (Dropout)            (None, 120, 64)           0         \n",
      "_________________________________________________________________\n",
      "lstm_1 (LSTM)                (None, 64)                33024     \n",
      "_________________________________________________________________\n",
      "dropout_1 (Dropout)          (None, 64)                0         \n",
      "_________________________________________________________________\n",
      "dense (Dense)                (None, 3)                 195       \n",
      "=================================================================\n",
      "Total params: 54,467\n",
      "Trainable params: 54,467\n",
      "Non-trainable params: 0\n",
      "_________________________________________________________________\n"
     ]
    },
    {
     "data": {
      "text/html": [
       "<span style=\"color:#4527A0\"><h1 style=\"font-size:18px\">Trial complete</h1></span>"
      ],
      "text/plain": [
       "<IPython.core.display.HTML object>"
      ]
     },
     "metadata": {},
     "output_type": "display_data"
    },
    {
     "data": {
      "text/html": [
       "<span style=\"color:#4527A0\"><h1 style=\"font-size:18px\">Trial summary</h1></span>"
      ],
      "text/plain": [
       "<IPython.core.display.HTML object>"
      ]
     },
     "metadata": {},
     "output_type": "display_data"
    },
    {
     "data": {
      "text/html": [
       "<span style=\"color:cyan\"> |-Trial ID: 1d73b151f69fd4738fd8cfdbd037fa25</span>"
      ],
      "text/plain": [
       "<IPython.core.display.HTML object>"
      ]
     },
     "metadata": {},
     "output_type": "display_data"
    },
    {
     "data": {
      "text/html": [
       "<span style=\"color:cyan\"> |-Score: 0.23670841753482819</span>"
      ],
      "text/plain": [
       "<IPython.core.display.HTML object>"
      ]
     },
     "metadata": {},
     "output_type": "display_data"
    },
    {
     "data": {
      "text/html": [
       "<span style=\"color:cyan\"> |-Best step: 0</span>"
      ],
      "text/plain": [
       "<IPython.core.display.HTML object>"
      ]
     },
     "metadata": {},
     "output_type": "display_data"
    },
    {
     "data": {
      "text/html": [
       "<span style=\"color:#7E57C2\"><h2 style=\"font-size:16px\">Hyperparameters:</h2></span>"
      ],
      "text/plain": [
       "<IPython.core.display.HTML object>"
      ]
     },
     "metadata": {},
     "output_type": "display_data"
    },
    {
     "data": {
      "text/html": [
       "<span style=\"color:cyan\"> |-learning_rate: 0.0001</span>"
      ],
      "text/plain": [
       "<IPython.core.display.HTML object>"
      ]
     },
     "metadata": {},
     "output_type": "display_data"
    },
    {
     "data": {
      "text/html": [
       "<span style=\"color:blue\"> |-tuner/bracket: 6</span>"
      ],
      "text/plain": [
       "<IPython.core.display.HTML object>"
      ]
     },
     "metadata": {},
     "output_type": "display_data"
    },
    {
     "data": {
      "text/html": [
       "<span style=\"color:cyan\"> |-tuner/epochs: 2</span>"
      ],
      "text/plain": [
       "<IPython.core.display.HTML object>"
      ]
     },
     "metadata": {},
     "output_type": "display_data"
    },
    {
     "data": {
      "text/html": [
       "<span style=\"color:blue\"> |-tuner/initial_epoch: 0</span>"
      ],
      "text/plain": [
       "<IPython.core.display.HTML object>"
      ]
     },
     "metadata": {},
     "output_type": "display_data"
    },
    {
     "data": {
      "text/html": [
       "<span style=\"color:cyan\"> |-tuner/round: 0</span>"
      ],
      "text/plain": [
       "<IPython.core.display.HTML object>"
      ]
     },
     "metadata": {},
     "output_type": "display_data"
    },
    {
     "data": {
      "text/html": [
       "<span style=\"color:blue\"> |-units: 64</span>"
      ],
      "text/plain": [
       "<IPython.core.display.HTML object>"
      ]
     },
     "metadata": {},
     "output_type": "display_data"
    },
    {
     "name": "stdout",
     "output_type": "stream",
     "text": [
      "Model: \"sequential\"\n",
      "_________________________________________________________________\n",
      "Layer (type)                 Output Shape              Param #   \n",
      "=================================================================\n",
      "lstm (LSTM)                  (None, 120, 32)           6528      \n",
      "_________________________________________________________________\n",
      "dropout (Dropout)            (None, 120, 32)           0         \n",
      "_________________________________________________________________\n",
      "lstm_1 (LSTM)                (None, 32)                8320      \n",
      "_________________________________________________________________\n",
      "dropout_1 (Dropout)          (None, 32)                0         \n",
      "_________________________________________________________________\n",
      "dense (Dense)                (None, 3)                 99        \n",
      "=================================================================\n",
      "Total params: 14,947\n",
      "Trainable params: 14,947\n",
      "Non-trainable params: 0\n",
      "_________________________________________________________________\n"
     ]
    },
    {
     "data": {
      "text/html": [
       "<span style=\"color:#4527A0\"><h1 style=\"font-size:18px\">Trial complete</h1></span>"
      ],
      "text/plain": [
       "<IPython.core.display.HTML object>"
      ]
     },
     "metadata": {},
     "output_type": "display_data"
    },
    {
     "data": {
      "text/html": [
       "<span style=\"color:#4527A0\"><h1 style=\"font-size:18px\">Trial summary</h1></span>"
      ],
      "text/plain": [
       "<IPython.core.display.HTML object>"
      ]
     },
     "metadata": {},
     "output_type": "display_data"
    },
    {
     "data": {
      "text/html": [
       "<span style=\"color:cyan\"> |-Trial ID: c903cfa48414c1205fc06cc5e0f4f7b0</span>"
      ],
      "text/plain": [
       "<IPython.core.display.HTML object>"
      ]
     },
     "metadata": {},
     "output_type": "display_data"
    },
    {
     "data": {
      "text/html": [
       "<span style=\"color:cyan\"> |-Score: 0.0980568528175354</span>"
      ],
      "text/plain": [
       "<IPython.core.display.HTML object>"
      ]
     },
     "metadata": {},
     "output_type": "display_data"
    },
    {
     "data": {
      "text/html": [
       "<span style=\"color:cyan\"> |-Best step: 0</span>"
      ],
      "text/plain": [
       "<IPython.core.display.HTML object>"
      ]
     },
     "metadata": {},
     "output_type": "display_data"
    },
    {
     "data": {
      "text/html": [
       "<span style=\"color:#7E57C2\"><h2 style=\"font-size:16px\">Hyperparameters:</h2></span>"
      ],
      "text/plain": [
       "<IPython.core.display.HTML object>"
      ]
     },
     "metadata": {},
     "output_type": "display_data"
    },
    {
     "data": {
      "text/html": [
       "<span style=\"color:cyan\"> |-learning_rate: 0.001</span>"
      ],
      "text/plain": [
       "<IPython.core.display.HTML object>"
      ]
     },
     "metadata": {},
     "output_type": "display_data"
    },
    {
     "data": {
      "text/html": [
       "<span style=\"color:blue\"> |-tuner/bracket: 6</span>"
      ],
      "text/plain": [
       "<IPython.core.display.HTML object>"
      ]
     },
     "metadata": {},
     "output_type": "display_data"
    },
    {
     "data": {
      "text/html": [
       "<span style=\"color:cyan\"> |-tuner/epochs: 2</span>"
      ],
      "text/plain": [
       "<IPython.core.display.HTML object>"
      ]
     },
     "metadata": {},
     "output_type": "display_data"
    },
    {
     "data": {
      "text/html": [
       "<span style=\"color:blue\"> |-tuner/initial_epoch: 0</span>"
      ],
      "text/plain": [
       "<IPython.core.display.HTML object>"
      ]
     },
     "metadata": {},
     "output_type": "display_data"
    },
    {
     "data": {
      "text/html": [
       "<span style=\"color:cyan\"> |-tuner/round: 0</span>"
      ],
      "text/plain": [
       "<IPython.core.display.HTML object>"
      ]
     },
     "metadata": {},
     "output_type": "display_data"
    },
    {
     "data": {
      "text/html": [
       "<span style=\"color:blue\"> |-units: 32</span>"
      ],
      "text/plain": [
       "<IPython.core.display.HTML object>"
      ]
     },
     "metadata": {},
     "output_type": "display_data"
    },
    {
     "name": "stdout",
     "output_type": "stream",
     "text": [
      "Model: \"sequential\"\n",
      "_________________________________________________________________\n",
      "Layer (type)                 Output Shape              Param #   \n",
      "=================================================================\n",
      "lstm (LSTM)                  (None, 120, 32)           6528      \n",
      "_________________________________________________________________\n",
      "dropout (Dropout)            (None, 120, 32)           0         \n",
      "_________________________________________________________________\n",
      "lstm_1 (LSTM)                (None, 32)                8320      \n",
      "_________________________________________________________________\n",
      "dropout_1 (Dropout)          (None, 32)                0         \n",
      "_________________________________________________________________\n",
      "dense (Dense)                (None, 3)                 99        \n",
      "=================================================================\n",
      "Total params: 14,947\n",
      "Trainable params: 14,947\n",
      "Non-trainable params: 0\n",
      "_________________________________________________________________\n"
     ]
    },
    {
     "data": {
      "text/html": [
       "<span style=\"color:#4527A0\"><h1 style=\"font-size:18px\">Trial complete</h1></span>"
      ],
      "text/plain": [
       "<IPython.core.display.HTML object>"
      ]
     },
     "metadata": {},
     "output_type": "display_data"
    },
    {
     "data": {
      "text/html": [
       "<span style=\"color:#4527A0\"><h1 style=\"font-size:18px\">Trial summary</h1></span>"
      ],
      "text/plain": [
       "<IPython.core.display.HTML object>"
      ]
     },
     "metadata": {},
     "output_type": "display_data"
    },
    {
     "data": {
      "text/html": [
       "<span style=\"color:cyan\"> |-Trial ID: 0bb2aa50bda223f54eb23f7319542b85</span>"
      ],
      "text/plain": [
       "<IPython.core.display.HTML object>"
      ]
     },
     "metadata": {},
     "output_type": "display_data"
    },
    {
     "data": {
      "text/html": [
       "<span style=\"color:cyan\"> |-Score: 0.06503438204526901</span>"
      ],
      "text/plain": [
       "<IPython.core.display.HTML object>"
      ]
     },
     "metadata": {},
     "output_type": "display_data"
    },
    {
     "data": {
      "text/html": [
       "<span style=\"color:cyan\"> |-Best step: 0</span>"
      ],
      "text/plain": [
       "<IPython.core.display.HTML object>"
      ]
     },
     "metadata": {},
     "output_type": "display_data"
    },
    {
     "data": {
      "text/html": [
       "<span style=\"color:#7E57C2\"><h2 style=\"font-size:16px\">Hyperparameters:</h2></span>"
      ],
      "text/plain": [
       "<IPython.core.display.HTML object>"
      ]
     },
     "metadata": {},
     "output_type": "display_data"
    },
    {
     "data": {
      "text/html": [
       "<span style=\"color:cyan\"> |-learning_rate: 0.01</span>"
      ],
      "text/plain": [
       "<IPython.core.display.HTML object>"
      ]
     },
     "metadata": {},
     "output_type": "display_data"
    },
    {
     "data": {
      "text/html": [
       "<span style=\"color:blue\"> |-tuner/bracket: 6</span>"
      ],
      "text/plain": [
       "<IPython.core.display.HTML object>"
      ]
     },
     "metadata": {},
     "output_type": "display_data"
    },
    {
     "data": {
      "text/html": [
       "<span style=\"color:cyan\"> |-tuner/epochs: 2</span>"
      ],
      "text/plain": [
       "<IPython.core.display.HTML object>"
      ]
     },
     "metadata": {},
     "output_type": "display_data"
    },
    {
     "data": {
      "text/html": [
       "<span style=\"color:blue\"> |-tuner/initial_epoch: 0</span>"
      ],
      "text/plain": [
       "<IPython.core.display.HTML object>"
      ]
     },
     "metadata": {},
     "output_type": "display_data"
    },
    {
     "data": {
      "text/html": [
       "<span style=\"color:cyan\"> |-tuner/round: 0</span>"
      ],
      "text/plain": [
       "<IPython.core.display.HTML object>"
      ]
     },
     "metadata": {},
     "output_type": "display_data"
    },
    {
     "data": {
      "text/html": [
       "<span style=\"color:blue\"> |-units: 32</span>"
      ],
      "text/plain": [
       "<IPython.core.display.HTML object>"
      ]
     },
     "metadata": {},
     "output_type": "display_data"
    },
    {
     "name": "stdout",
     "output_type": "stream",
     "text": [
      "Model: \"sequential\"\n",
      "_________________________________________________________________\n",
      "Layer (type)                 Output Shape              Param #   \n",
      "=================================================================\n",
      "lstm (LSTM)                  (None, 120, 80)           31680     \n",
      "_________________________________________________________________\n",
      "dropout (Dropout)            (None, 120, 80)           0         \n",
      "_________________________________________________________________\n",
      "lstm_1 (LSTM)                (None, 80)                51520     \n",
      "_________________________________________________________________\n",
      "dropout_1 (Dropout)          (None, 80)                0         \n",
      "_________________________________________________________________\n",
      "dense (Dense)                (None, 3)                 243       \n",
      "=================================================================\n",
      "Total params: 83,443\n",
      "Trainable params: 83,443\n",
      "Non-trainable params: 0\n",
      "_________________________________________________________________\n"
     ]
    },
    {
     "data": {
      "text/html": [
       "<span style=\"color:#4527A0\"><h1 style=\"font-size:18px\">Trial complete</h1></span>"
      ],
      "text/plain": [
       "<IPython.core.display.HTML object>"
      ]
     },
     "metadata": {},
     "output_type": "display_data"
    },
    {
     "data": {
      "text/html": [
       "<span style=\"color:#4527A0\"><h1 style=\"font-size:18px\">Trial summary</h1></span>"
      ],
      "text/plain": [
       "<IPython.core.display.HTML object>"
      ]
     },
     "metadata": {},
     "output_type": "display_data"
    },
    {
     "data": {
      "text/html": [
       "<span style=\"color:cyan\"> |-Trial ID: d44f5d1ae9f7cdd042cf673c8e1320fa</span>"
      ],
      "text/plain": [
       "<IPython.core.display.HTML object>"
      ]
     },
     "metadata": {},
     "output_type": "display_data"
    },
    {
     "data": {
      "text/html": [
       "<span style=\"color:cyan\"> |-Score: 0.13640129566192627</span>"
      ],
      "text/plain": [
       "<IPython.core.display.HTML object>"
      ]
     },
     "metadata": {},
     "output_type": "display_data"
    },
    {
     "data": {
      "text/html": [
       "<span style=\"color:cyan\"> |-Best step: 0</span>"
      ],
      "text/plain": [
       "<IPython.core.display.HTML object>"
      ]
     },
     "metadata": {},
     "output_type": "display_data"
    },
    {
     "data": {
      "text/html": [
       "<span style=\"color:#7E57C2\"><h2 style=\"font-size:16px\">Hyperparameters:</h2></span>"
      ],
      "text/plain": [
       "<IPython.core.display.HTML object>"
      ]
     },
     "metadata": {},
     "output_type": "display_data"
    },
    {
     "data": {
      "text/html": [
       "<span style=\"color:cyan\"> |-learning_rate: 0.0001</span>"
      ],
      "text/plain": [
       "<IPython.core.display.HTML object>"
      ]
     },
     "metadata": {},
     "output_type": "display_data"
    },
    {
     "data": {
      "text/html": [
       "<span style=\"color:blue\"> |-tuner/bracket: 6</span>"
      ],
      "text/plain": [
       "<IPython.core.display.HTML object>"
      ]
     },
     "metadata": {},
     "output_type": "display_data"
    },
    {
     "data": {
      "text/html": [
       "<span style=\"color:cyan\"> |-tuner/epochs: 2</span>"
      ],
      "text/plain": [
       "<IPython.core.display.HTML object>"
      ]
     },
     "metadata": {},
     "output_type": "display_data"
    },
    {
     "data": {
      "text/html": [
       "<span style=\"color:blue\"> |-tuner/initial_epoch: 0</span>"
      ],
      "text/plain": [
       "<IPython.core.display.HTML object>"
      ]
     },
     "metadata": {},
     "output_type": "display_data"
    },
    {
     "data": {
      "text/html": [
       "<span style=\"color:cyan\"> |-tuner/round: 0</span>"
      ],
      "text/plain": [
       "<IPython.core.display.HTML object>"
      ]
     },
     "metadata": {},
     "output_type": "display_data"
    },
    {
     "data": {
      "text/html": [
       "<span style=\"color:blue\"> |-units: 80</span>"
      ],
      "text/plain": [
       "<IPython.core.display.HTML object>"
      ]
     },
     "metadata": {},
     "output_type": "display_data"
    },
    {
     "name": "stdout",
     "output_type": "stream",
     "text": [
      "Model: \"sequential\"\n",
      "_________________________________________________________________\n",
      "Layer (type)                 Output Shape              Param #   \n",
      "=================================================================\n",
      "lstm (LSTM)                  (None, 120, 96)           44160     \n",
      "_________________________________________________________________\n",
      "dropout (Dropout)            (None, 120, 96)           0         \n",
      "_________________________________________________________________\n",
      "lstm_1 (LSTM)                (None, 96)                74112     \n",
      "_________________________________________________________________\n",
      "dropout_1 (Dropout)          (None, 96)                0         \n",
      "_________________________________________________________________\n",
      "dense (Dense)                (None, 3)                 291       \n",
      "=================================================================\n",
      "Total params: 118,563\n",
      "Trainable params: 118,563\n",
      "Non-trainable params: 0\n",
      "_________________________________________________________________\n"
     ]
    },
    {
     "data": {
      "text/html": [
       "<span style=\"color:#4527A0\"><h1 style=\"font-size:18px\">Trial complete</h1></span>"
      ],
      "text/plain": [
       "<IPython.core.display.HTML object>"
      ]
     },
     "metadata": {},
     "output_type": "display_data"
    },
    {
     "data": {
      "text/html": [
       "<span style=\"color:#4527A0\"><h1 style=\"font-size:18px\">Trial summary</h1></span>"
      ],
      "text/plain": [
       "<IPython.core.display.HTML object>"
      ]
     },
     "metadata": {},
     "output_type": "display_data"
    },
    {
     "data": {
      "text/html": [
       "<span style=\"color:cyan\"> |-Trial ID: 959ebdc0acf11c31cbbd4a3ce30a37ae</span>"
      ],
      "text/plain": [
       "<IPython.core.display.HTML object>"
      ]
     },
     "metadata": {},
     "output_type": "display_data"
    },
    {
     "data": {
      "text/html": [
       "<span style=\"color:cyan\"> |-Score: 0.14075709879398346</span>"
      ],
      "text/plain": [
       "<IPython.core.display.HTML object>"
      ]
     },
     "metadata": {},
     "output_type": "display_data"
    },
    {
     "data": {
      "text/html": [
       "<span style=\"color:cyan\"> |-Best step: 0</span>"
      ],
      "text/plain": [
       "<IPython.core.display.HTML object>"
      ]
     },
     "metadata": {},
     "output_type": "display_data"
    },
    {
     "data": {
      "text/html": [
       "<span style=\"color:#7E57C2\"><h2 style=\"font-size:16px\">Hyperparameters:</h2></span>"
      ],
      "text/plain": [
       "<IPython.core.display.HTML object>"
      ]
     },
     "metadata": {},
     "output_type": "display_data"
    },
    {
     "data": {
      "text/html": [
       "<span style=\"color:cyan\"> |-learning_rate: 0.0001</span>"
      ],
      "text/plain": [
       "<IPython.core.display.HTML object>"
      ]
     },
     "metadata": {},
     "output_type": "display_data"
    },
    {
     "data": {
      "text/html": [
       "<span style=\"color:blue\"> |-tuner/bracket: 6</span>"
      ],
      "text/plain": [
       "<IPython.core.display.HTML object>"
      ]
     },
     "metadata": {},
     "output_type": "display_data"
    },
    {
     "data": {
      "text/html": [
       "<span style=\"color:cyan\"> |-tuner/epochs: 2</span>"
      ],
      "text/plain": [
       "<IPython.core.display.HTML object>"
      ]
     },
     "metadata": {},
     "output_type": "display_data"
    },
    {
     "data": {
      "text/html": [
       "<span style=\"color:blue\"> |-tuner/initial_epoch: 0</span>"
      ],
      "text/plain": [
       "<IPython.core.display.HTML object>"
      ]
     },
     "metadata": {},
     "output_type": "display_data"
    },
    {
     "data": {
      "text/html": [
       "<span style=\"color:cyan\"> |-tuner/round: 0</span>"
      ],
      "text/plain": [
       "<IPython.core.display.HTML object>"
      ]
     },
     "metadata": {},
     "output_type": "display_data"
    },
    {
     "data": {
      "text/html": [
       "<span style=\"color:blue\"> |-units: 96</span>"
      ],
      "text/plain": [
       "<IPython.core.display.HTML object>"
      ]
     },
     "metadata": {},
     "output_type": "display_data"
    },
    {
     "name": "stdout",
     "output_type": "stream",
     "text": [
      "Model: \"sequential\"\n",
      "_________________________________________________________________\n",
      "Layer (type)                 Output Shape              Param #   \n",
      "=================================================================\n",
      "lstm (LSTM)                  (None, 120, 112)          58688     \n",
      "_________________________________________________________________\n",
      "dropout (Dropout)            (None, 120, 112)          0         \n",
      "_________________________________________________________________\n",
      "lstm_1 (LSTM)                (None, 112)               100800    \n",
      "_________________________________________________________________\n",
      "dropout_1 (Dropout)          (None, 112)               0         \n",
      "_________________________________________________________________\n",
      "dense (Dense)                (None, 3)                 339       \n",
      "=================================================================\n",
      "Total params: 159,827\n",
      "Trainable params: 159,827\n",
      "Non-trainable params: 0\n",
      "_________________________________________________________________\n"
     ]
    },
    {
     "data": {
      "text/html": [
       "<span style=\"color:#4527A0\"><h1 style=\"font-size:18px\">Trial complete</h1></span>"
      ],
      "text/plain": [
       "<IPython.core.display.HTML object>"
      ]
     },
     "metadata": {},
     "output_type": "display_data"
    },
    {
     "data": {
      "text/html": [
       "<span style=\"color:#4527A0\"><h1 style=\"font-size:18px\">Trial summary</h1></span>"
      ],
      "text/plain": [
       "<IPython.core.display.HTML object>"
      ]
     },
     "metadata": {},
     "output_type": "display_data"
    },
    {
     "data": {
      "text/html": [
       "<span style=\"color:cyan\"> |-Trial ID: 87de5b392a5e5e7874960c1b22c91dc5</span>"
      ],
      "text/plain": [
       "<IPython.core.display.HTML object>"
      ]
     },
     "metadata": {},
     "output_type": "display_data"
    },
    {
     "data": {
      "text/html": [
       "<span style=\"color:cyan\"> |-Score: 0.0476372130215168</span>"
      ],
      "text/plain": [
       "<IPython.core.display.HTML object>"
      ]
     },
     "metadata": {},
     "output_type": "display_data"
    },
    {
     "data": {
      "text/html": [
       "<span style=\"color:cyan\"> |-Best step: 0</span>"
      ],
      "text/plain": [
       "<IPython.core.display.HTML object>"
      ]
     },
     "metadata": {},
     "output_type": "display_data"
    },
    {
     "data": {
      "text/html": [
       "<span style=\"color:#7E57C2\"><h2 style=\"font-size:16px\">Hyperparameters:</h2></span>"
      ],
      "text/plain": [
       "<IPython.core.display.HTML object>"
      ]
     },
     "metadata": {},
     "output_type": "display_data"
    },
    {
     "data": {
      "text/html": [
       "<span style=\"color:cyan\"> |-learning_rate: 0.01</span>"
      ],
      "text/plain": [
       "<IPython.core.display.HTML object>"
      ]
     },
     "metadata": {},
     "output_type": "display_data"
    },
    {
     "data": {
      "text/html": [
       "<span style=\"color:blue\"> |-tuner/bracket: 6</span>"
      ],
      "text/plain": [
       "<IPython.core.display.HTML object>"
      ]
     },
     "metadata": {},
     "output_type": "display_data"
    },
    {
     "data": {
      "text/html": [
       "<span style=\"color:cyan\"> |-tuner/epochs: 2</span>"
      ],
      "text/plain": [
       "<IPython.core.display.HTML object>"
      ]
     },
     "metadata": {},
     "output_type": "display_data"
    },
    {
     "data": {
      "text/html": [
       "<span style=\"color:blue\"> |-tuner/initial_epoch: 0</span>"
      ],
      "text/plain": [
       "<IPython.core.display.HTML object>"
      ]
     },
     "metadata": {},
     "output_type": "display_data"
    },
    {
     "data": {
      "text/html": [
       "<span style=\"color:cyan\"> |-tuner/round: 0</span>"
      ],
      "text/plain": [
       "<IPython.core.display.HTML object>"
      ]
     },
     "metadata": {},
     "output_type": "display_data"
    },
    {
     "data": {
      "text/html": [
       "<span style=\"color:blue\"> |-units: 112</span>"
      ],
      "text/plain": [
       "<IPython.core.display.HTML object>"
      ]
     },
     "metadata": {},
     "output_type": "display_data"
    },
    {
     "name": "stdout",
     "output_type": "stream",
     "text": [
      "Model: \"sequential\"\n",
      "_________________________________________________________________\n",
      "Layer (type)                 Output Shape              Param #   \n",
      "=================================================================\n",
      "lstm (LSTM)                  (None, 120, 112)          58688     \n",
      "_________________________________________________________________\n",
      "dropout (Dropout)            (None, 120, 112)          0         \n",
      "_________________________________________________________________\n",
      "lstm_1 (LSTM)                (None, 112)               100800    \n",
      "_________________________________________________________________\n",
      "dropout_1 (Dropout)          (None, 112)               0         \n",
      "_________________________________________________________________\n",
      "dense (Dense)                (None, 3)                 339       \n",
      "=================================================================\n",
      "Total params: 159,827\n",
      "Trainable params: 159,827\n",
      "Non-trainable params: 0\n",
      "_________________________________________________________________\n"
     ]
    },
    {
     "data": {
      "text/html": [
       "<span style=\"color:#4527A0\"><h1 style=\"font-size:18px\">Trial complete</h1></span>"
      ],
      "text/plain": [
       "<IPython.core.display.HTML object>"
      ]
     },
     "metadata": {},
     "output_type": "display_data"
    },
    {
     "data": {
      "text/html": [
       "<span style=\"color:#4527A0\"><h1 style=\"font-size:18px\">Trial summary</h1></span>"
      ],
      "text/plain": [
       "<IPython.core.display.HTML object>"
      ]
     },
     "metadata": {},
     "output_type": "display_data"
    },
    {
     "data": {
      "text/html": [
       "<span style=\"color:cyan\"> |-Trial ID: 69bf31c59ddb5bc3e9b6bb43da40259c</span>"
      ],
      "text/plain": [
       "<IPython.core.display.HTML object>"
      ]
     },
     "metadata": {},
     "output_type": "display_data"
    },
    {
     "data": {
      "text/html": [
       "<span style=\"color:cyan\"> |-Score: 0.10848405957221985</span>"
      ],
      "text/plain": [
       "<IPython.core.display.HTML object>"
      ]
     },
     "metadata": {},
     "output_type": "display_data"
    },
    {
     "data": {
      "text/html": [
       "<span style=\"color:cyan\"> |-Best step: 0</span>"
      ],
      "text/plain": [
       "<IPython.core.display.HTML object>"
      ]
     },
     "metadata": {},
     "output_type": "display_data"
    },
    {
     "data": {
      "text/html": [
       "<span style=\"color:#7E57C2\"><h2 style=\"font-size:16px\">Hyperparameters:</h2></span>"
      ],
      "text/plain": [
       "<IPython.core.display.HTML object>"
      ]
     },
     "metadata": {},
     "output_type": "display_data"
    },
    {
     "data": {
      "text/html": [
       "<span style=\"color:cyan\"> |-learning_rate: 0.0001</span>"
      ],
      "text/plain": [
       "<IPython.core.display.HTML object>"
      ]
     },
     "metadata": {},
     "output_type": "display_data"
    },
    {
     "data": {
      "text/html": [
       "<span style=\"color:blue\"> |-tuner/bracket: 6</span>"
      ],
      "text/plain": [
       "<IPython.core.display.HTML object>"
      ]
     },
     "metadata": {},
     "output_type": "display_data"
    },
    {
     "data": {
      "text/html": [
       "<span style=\"color:cyan\"> |-tuner/epochs: 2</span>"
      ],
      "text/plain": [
       "<IPython.core.display.HTML object>"
      ]
     },
     "metadata": {},
     "output_type": "display_data"
    },
    {
     "data": {
      "text/html": [
       "<span style=\"color:blue\"> |-tuner/initial_epoch: 0</span>"
      ],
      "text/plain": [
       "<IPython.core.display.HTML object>"
      ]
     },
     "metadata": {},
     "output_type": "display_data"
    },
    {
     "data": {
      "text/html": [
       "<span style=\"color:cyan\"> |-tuner/round: 0</span>"
      ],
      "text/plain": [
       "<IPython.core.display.HTML object>"
      ]
     },
     "metadata": {},
     "output_type": "display_data"
    },
    {
     "data": {
      "text/html": [
       "<span style=\"color:blue\"> |-units: 112</span>"
      ],
      "text/plain": [
       "<IPython.core.display.HTML object>"
      ]
     },
     "metadata": {},
     "output_type": "display_data"
    },
    {
     "name": "stdout",
     "output_type": "stream",
     "text": [
      "Model: \"sequential\"\n",
      "_________________________________________________________________\n",
      "Layer (type)                 Output Shape              Param #   \n",
      "=================================================================\n",
      "lstm (LSTM)                  (None, 120, 80)           31680     \n",
      "_________________________________________________________________\n",
      "dropout (Dropout)            (None, 120, 80)           0         \n",
      "_________________________________________________________________\n",
      "lstm_1 (LSTM)                (None, 80)                51520     \n",
      "_________________________________________________________________\n",
      "dropout_1 (Dropout)          (None, 80)                0         \n",
      "_________________________________________________________________\n",
      "dense (Dense)                (None, 3)                 243       \n",
      "=================================================================\n",
      "Total params: 83,443\n",
      "Trainable params: 83,443\n",
      "Non-trainable params: 0\n",
      "_________________________________________________________________\n"
     ]
    },
    {
     "data": {
      "text/html": [
       "<span style=\"color:#4527A0\"><h1 style=\"font-size:18px\">Trial complete</h1></span>"
      ],
      "text/plain": [
       "<IPython.core.display.HTML object>"
      ]
     },
     "metadata": {},
     "output_type": "display_data"
    },
    {
     "data": {
      "text/html": [
       "<span style=\"color:#4527A0\"><h1 style=\"font-size:18px\">Trial summary</h1></span>"
      ],
      "text/plain": [
       "<IPython.core.display.HTML object>"
      ]
     },
     "metadata": {},
     "output_type": "display_data"
    },
    {
     "data": {
      "text/html": [
       "<span style=\"color:cyan\"> |-Trial ID: 4d6be37aaed5827f38ec4c6297b67815</span>"
      ],
      "text/plain": [
       "<IPython.core.display.HTML object>"
      ]
     },
     "metadata": {},
     "output_type": "display_data"
    },
    {
     "data": {
      "text/html": [
       "<span style=\"color:cyan\"> |-Score: 0.05974427983164787</span>"
      ],
      "text/plain": [
       "<IPython.core.display.HTML object>"
      ]
     },
     "metadata": {},
     "output_type": "display_data"
    },
    {
     "data": {
      "text/html": [
       "<span style=\"color:cyan\"> |-Best step: 0</span>"
      ],
      "text/plain": [
       "<IPython.core.display.HTML object>"
      ]
     },
     "metadata": {},
     "output_type": "display_data"
    },
    {
     "data": {
      "text/html": [
       "<span style=\"color:#7E57C2\"><h2 style=\"font-size:16px\">Hyperparameters:</h2></span>"
      ],
      "text/plain": [
       "<IPython.core.display.HTML object>"
      ]
     },
     "metadata": {},
     "output_type": "display_data"
    },
    {
     "data": {
      "text/html": [
       "<span style=\"color:cyan\"> |-learning_rate: 0.001</span>"
      ],
      "text/plain": [
       "<IPython.core.display.HTML object>"
      ]
     },
     "metadata": {},
     "output_type": "display_data"
    },
    {
     "data": {
      "text/html": [
       "<span style=\"color:blue\"> |-tuner/bracket: 6</span>"
      ],
      "text/plain": [
       "<IPython.core.display.HTML object>"
      ]
     },
     "metadata": {},
     "output_type": "display_data"
    },
    {
     "data": {
      "text/html": [
       "<span style=\"color:cyan\"> |-tuner/epochs: 2</span>"
      ],
      "text/plain": [
       "<IPython.core.display.HTML object>"
      ]
     },
     "metadata": {},
     "output_type": "display_data"
    },
    {
     "data": {
      "text/html": [
       "<span style=\"color:blue\"> |-tuner/initial_epoch: 0</span>"
      ],
      "text/plain": [
       "<IPython.core.display.HTML object>"
      ]
     },
     "metadata": {},
     "output_type": "display_data"
    },
    {
     "data": {
      "text/html": [
       "<span style=\"color:cyan\"> |-tuner/round: 0</span>"
      ],
      "text/plain": [
       "<IPython.core.display.HTML object>"
      ]
     },
     "metadata": {},
     "output_type": "display_data"
    },
    {
     "data": {
      "text/html": [
       "<span style=\"color:blue\"> |-units: 80</span>"
      ],
      "text/plain": [
       "<IPython.core.display.HTML object>"
      ]
     },
     "metadata": {},
     "output_type": "display_data"
    },
    {
     "name": "stdout",
     "output_type": "stream",
     "text": [
      "Model: \"sequential\"\n",
      "_________________________________________________________________\n",
      "Layer (type)                 Output Shape              Param #   \n",
      "=================================================================\n",
      "lstm (LSTM)                  (None, 120, 48)           12864     \n",
      "_________________________________________________________________\n",
      "dropout (Dropout)            (None, 120, 48)           0         \n",
      "_________________________________________________________________\n",
      "lstm_1 (LSTM)                (None, 48)                18624     \n",
      "_________________________________________________________________\n",
      "dropout_1 (Dropout)          (None, 48)                0         \n",
      "_________________________________________________________________\n",
      "dense (Dense)                (None, 3)                 147       \n",
      "=================================================================\n",
      "Total params: 31,635\n",
      "Trainable params: 31,635\n",
      "Non-trainable params: 0\n",
      "_________________________________________________________________\n"
     ]
    },
    {
     "data": {
      "text/html": [
       "<span style=\"color:#4527A0\"><h1 style=\"font-size:18px\">Trial complete</h1></span>"
      ],
      "text/plain": [
       "<IPython.core.display.HTML object>"
      ]
     },
     "metadata": {},
     "output_type": "display_data"
    },
    {
     "data": {
      "text/html": [
       "<span style=\"color:#4527A0\"><h1 style=\"font-size:18px\">Trial summary</h1></span>"
      ],
      "text/plain": [
       "<IPython.core.display.HTML object>"
      ]
     },
     "metadata": {},
     "output_type": "display_data"
    },
    {
     "data": {
      "text/html": [
       "<span style=\"color:cyan\"> |-Trial ID: 7c22c5e8b9feccbb51bf65114490c16c</span>"
      ],
      "text/plain": [
       "<IPython.core.display.HTML object>"
      ]
     },
     "metadata": {},
     "output_type": "display_data"
    },
    {
     "data": {
      "text/html": [
       "<span style=\"color:cyan\"> |-Score: 0.06794816255569458</span>"
      ],
      "text/plain": [
       "<IPython.core.display.HTML object>"
      ]
     },
     "metadata": {},
     "output_type": "display_data"
    },
    {
     "data": {
      "text/html": [
       "<span style=\"color:cyan\"> |-Best step: 0</span>"
      ],
      "text/plain": [
       "<IPython.core.display.HTML object>"
      ]
     },
     "metadata": {},
     "output_type": "display_data"
    },
    {
     "data": {
      "text/html": [
       "<span style=\"color:#7E57C2\"><h2 style=\"font-size:16px\">Hyperparameters:</h2></span>"
      ],
      "text/plain": [
       "<IPython.core.display.HTML object>"
      ]
     },
     "metadata": {},
     "output_type": "display_data"
    },
    {
     "data": {
      "text/html": [
       "<span style=\"color:cyan\"> |-learning_rate: 0.01</span>"
      ],
      "text/plain": [
       "<IPython.core.display.HTML object>"
      ]
     },
     "metadata": {},
     "output_type": "display_data"
    },
    {
     "data": {
      "text/html": [
       "<span style=\"color:blue\"> |-tuner/bracket: 6</span>"
      ],
      "text/plain": [
       "<IPython.core.display.HTML object>"
      ]
     },
     "metadata": {},
     "output_type": "display_data"
    },
    {
     "data": {
      "text/html": [
       "<span style=\"color:cyan\"> |-tuner/epochs: 2</span>"
      ],
      "text/plain": [
       "<IPython.core.display.HTML object>"
      ]
     },
     "metadata": {},
     "output_type": "display_data"
    },
    {
     "data": {
      "text/html": [
       "<span style=\"color:blue\"> |-tuner/initial_epoch: 0</span>"
      ],
      "text/plain": [
       "<IPython.core.display.HTML object>"
      ]
     },
     "metadata": {},
     "output_type": "display_data"
    },
    {
     "data": {
      "text/html": [
       "<span style=\"color:cyan\"> |-tuner/round: 0</span>"
      ],
      "text/plain": [
       "<IPython.core.display.HTML object>"
      ]
     },
     "metadata": {},
     "output_type": "display_data"
    },
    {
     "data": {
      "text/html": [
       "<span style=\"color:blue\"> |-units: 48</span>"
      ],
      "text/plain": [
       "<IPython.core.display.HTML object>"
      ]
     },
     "metadata": {},
     "output_type": "display_data"
    },
    {
     "name": "stdout",
     "output_type": "stream",
     "text": [
      "Model: \"sequential\"\n",
      "_________________________________________________________________\n",
      "Layer (type)                 Output Shape              Param #   \n",
      "=================================================================\n",
      "lstm (LSTM)                  (None, 120, 128)          75264     \n",
      "_________________________________________________________________\n",
      "dropout (Dropout)            (None, 120, 128)          0         \n",
      "_________________________________________________________________\n",
      "lstm_1 (LSTM)                (None, 128)               131584    \n",
      "_________________________________________________________________\n",
      "dropout_1 (Dropout)          (None, 128)               0         \n",
      "_________________________________________________________________\n",
      "dense (Dense)                (None, 3)                 387       \n",
      "=================================================================\n",
      "Total params: 207,235\n",
      "Trainable params: 207,235\n",
      "Non-trainable params: 0\n",
      "_________________________________________________________________\n"
     ]
    },
    {
     "data": {
      "text/html": [
       "<span style=\"color:#4527A0\"><h1 style=\"font-size:18px\">Trial complete</h1></span>"
      ],
      "text/plain": [
       "<IPython.core.display.HTML object>"
      ]
     },
     "metadata": {},
     "output_type": "display_data"
    },
    {
     "data": {
      "text/html": [
       "<span style=\"color:#4527A0\"><h1 style=\"font-size:18px\">Trial summary</h1></span>"
      ],
      "text/plain": [
       "<IPython.core.display.HTML object>"
      ]
     },
     "metadata": {},
     "output_type": "display_data"
    },
    {
     "data": {
      "text/html": [
       "<span style=\"color:cyan\"> |-Trial ID: a20b57761ce69c9db3fe421e7cf98049</span>"
      ],
      "text/plain": [
       "<IPython.core.display.HTML object>"
      ]
     },
     "metadata": {},
     "output_type": "display_data"
    },
    {
     "data": {
      "text/html": [
       "<span style=\"color:cyan\"> |-Score: 0.05135136842727661</span>"
      ],
      "text/plain": [
       "<IPython.core.display.HTML object>"
      ]
     },
     "metadata": {},
     "output_type": "display_data"
    },
    {
     "data": {
      "text/html": [
       "<span style=\"color:cyan\"> |-Best step: 0</span>"
      ],
      "text/plain": [
       "<IPython.core.display.HTML object>"
      ]
     },
     "metadata": {},
     "output_type": "display_data"
    },
    {
     "data": {
      "text/html": [
       "<span style=\"color:#7E57C2\"><h2 style=\"font-size:16px\">Hyperparameters:</h2></span>"
      ],
      "text/plain": [
       "<IPython.core.display.HTML object>"
      ]
     },
     "metadata": {},
     "output_type": "display_data"
    },
    {
     "data": {
      "text/html": [
       "<span style=\"color:cyan\"> |-learning_rate: 0.01</span>"
      ],
      "text/plain": [
       "<IPython.core.display.HTML object>"
      ]
     },
     "metadata": {},
     "output_type": "display_data"
    },
    {
     "data": {
      "text/html": [
       "<span style=\"color:blue\"> |-tuner/bracket: 6</span>"
      ],
      "text/plain": [
       "<IPython.core.display.HTML object>"
      ]
     },
     "metadata": {},
     "output_type": "display_data"
    },
    {
     "data": {
      "text/html": [
       "<span style=\"color:cyan\"> |-tuner/epochs: 2</span>"
      ],
      "text/plain": [
       "<IPython.core.display.HTML object>"
      ]
     },
     "metadata": {},
     "output_type": "display_data"
    },
    {
     "data": {
      "text/html": [
       "<span style=\"color:blue\"> |-tuner/initial_epoch: 0</span>"
      ],
      "text/plain": [
       "<IPython.core.display.HTML object>"
      ]
     },
     "metadata": {},
     "output_type": "display_data"
    },
    {
     "data": {
      "text/html": [
       "<span style=\"color:cyan\"> |-tuner/round: 0</span>"
      ],
      "text/plain": [
       "<IPython.core.display.HTML object>"
      ]
     },
     "metadata": {},
     "output_type": "display_data"
    },
    {
     "data": {
      "text/html": [
       "<span style=\"color:blue\"> |-units: 128</span>"
      ],
      "text/plain": [
       "<IPython.core.display.HTML object>"
      ]
     },
     "metadata": {},
     "output_type": "display_data"
    },
    {
     "name": "stdout",
     "output_type": "stream",
     "text": [
      "Model: \"sequential\"\n",
      "_________________________________________________________________\n",
      "Layer (type)                 Output Shape              Param #   \n",
      "=================================================================\n",
      "lstm (LSTM)                  (None, 120, 96)           44160     \n",
      "_________________________________________________________________\n",
      "dropout (Dropout)            (None, 120, 96)           0         \n",
      "_________________________________________________________________\n",
      "lstm_1 (LSTM)                (None, 96)                74112     \n",
      "_________________________________________________________________\n",
      "dropout_1 (Dropout)          (None, 96)                0         \n",
      "_________________________________________________________________\n",
      "dense (Dense)                (None, 3)                 291       \n",
      "=================================================================\n",
      "Total params: 118,563\n",
      "Trainable params: 118,563\n",
      "Non-trainable params: 0\n",
      "_________________________________________________________________\n"
     ]
    },
    {
     "data": {
      "text/html": [
       "<span style=\"color:#4527A0\"><h1 style=\"font-size:18px\">Trial complete</h1></span>"
      ],
      "text/plain": [
       "<IPython.core.display.HTML object>"
      ]
     },
     "metadata": {},
     "output_type": "display_data"
    },
    {
     "data": {
      "text/html": [
       "<span style=\"color:#4527A0\"><h1 style=\"font-size:18px\">Trial summary</h1></span>"
      ],
      "text/plain": [
       "<IPython.core.display.HTML object>"
      ]
     },
     "metadata": {},
     "output_type": "display_data"
    },
    {
     "data": {
      "text/html": [
       "<span style=\"color:cyan\"> |-Trial ID: 6cedf6176cb8478f5cbb3b925829b264</span>"
      ],
      "text/plain": [
       "<IPython.core.display.HTML object>"
      ]
     },
     "metadata": {},
     "output_type": "display_data"
    },
    {
     "data": {
      "text/html": [
       "<span style=\"color:cyan\"> |-Score: 0.030744243413209915</span>"
      ],
      "text/plain": [
       "<IPython.core.display.HTML object>"
      ]
     },
     "metadata": {},
     "output_type": "display_data"
    },
    {
     "data": {
      "text/html": [
       "<span style=\"color:cyan\"> |-Best step: 0</span>"
      ],
      "text/plain": [
       "<IPython.core.display.HTML object>"
      ]
     },
     "metadata": {},
     "output_type": "display_data"
    },
    {
     "data": {
      "text/html": [
       "<span style=\"color:#7E57C2\"><h2 style=\"font-size:16px\">Hyperparameters:</h2></span>"
      ],
      "text/plain": [
       "<IPython.core.display.HTML object>"
      ]
     },
     "metadata": {},
     "output_type": "display_data"
    },
    {
     "data": {
      "text/html": [
       "<span style=\"color:cyan\"> |-learning_rate: 0.01</span>"
      ],
      "text/plain": [
       "<IPython.core.display.HTML object>"
      ]
     },
     "metadata": {},
     "output_type": "display_data"
    },
    {
     "data": {
      "text/html": [
       "<span style=\"color:blue\"> |-tuner/bracket: 6</span>"
      ],
      "text/plain": [
       "<IPython.core.display.HTML object>"
      ]
     },
     "metadata": {},
     "output_type": "display_data"
    },
    {
     "data": {
      "text/html": [
       "<span style=\"color:cyan\"> |-tuner/epochs: 2</span>"
      ],
      "text/plain": [
       "<IPython.core.display.HTML object>"
      ]
     },
     "metadata": {},
     "output_type": "display_data"
    },
    {
     "data": {
      "text/html": [
       "<span style=\"color:blue\"> |-tuner/initial_epoch: 0</span>"
      ],
      "text/plain": [
       "<IPython.core.display.HTML object>"
      ]
     },
     "metadata": {},
     "output_type": "display_data"
    },
    {
     "data": {
      "text/html": [
       "<span style=\"color:cyan\"> |-tuner/round: 0</span>"
      ],
      "text/plain": [
       "<IPython.core.display.HTML object>"
      ]
     },
     "metadata": {},
     "output_type": "display_data"
    },
    {
     "data": {
      "text/html": [
       "<span style=\"color:blue\"> |-units: 96</span>"
      ],
      "text/plain": [
       "<IPython.core.display.HTML object>"
      ]
     },
     "metadata": {},
     "output_type": "display_data"
    },
    {
     "name": "stdout",
     "output_type": "stream",
     "text": [
      "Model: \"sequential\"\n",
      "_________________________________________________________________\n",
      "Layer (type)                 Output Shape              Param #   \n",
      "=================================================================\n",
      "lstm (LSTM)                  (None, 120, 64)           21248     \n",
      "_________________________________________________________________\n",
      "dropout (Dropout)            (None, 120, 64)           0         \n",
      "_________________________________________________________________\n",
      "lstm_1 (LSTM)                (None, 64)                33024     \n",
      "_________________________________________________________________\n",
      "dropout_1 (Dropout)          (None, 64)                0         \n",
      "_________________________________________________________________\n",
      "dense (Dense)                (None, 3)                 195       \n",
      "=================================================================\n",
      "Total params: 54,467\n",
      "Trainable params: 54,467\n",
      "Non-trainable params: 0\n",
      "_________________________________________________________________\n"
     ]
    },
    {
     "data": {
      "text/html": [
       "<span style=\"color:#4527A0\"><h1 style=\"font-size:18px\">Trial complete</h1></span>"
      ],
      "text/plain": [
       "<IPython.core.display.HTML object>"
      ]
     },
     "metadata": {},
     "output_type": "display_data"
    },
    {
     "data": {
      "text/html": [
       "<span style=\"color:#4527A0\"><h1 style=\"font-size:18px\">Trial summary</h1></span>"
      ],
      "text/plain": [
       "<IPython.core.display.HTML object>"
      ]
     },
     "metadata": {},
     "output_type": "display_data"
    },
    {
     "data": {
      "text/html": [
       "<span style=\"color:cyan\"> |-Trial ID: 77bd6349a1d4c396defd9c96f4020b11</span>"
      ],
      "text/plain": [
       "<IPython.core.display.HTML object>"
      ]
     },
     "metadata": {},
     "output_type": "display_data"
    },
    {
     "data": {
      "text/html": [
       "<span style=\"color:cyan\"> |-Score: 0.0452929250895977</span>"
      ],
      "text/plain": [
       "<IPython.core.display.HTML object>"
      ]
     },
     "metadata": {},
     "output_type": "display_data"
    },
    {
     "data": {
      "text/html": [
       "<span style=\"color:cyan\"> |-Best step: 0</span>"
      ],
      "text/plain": [
       "<IPython.core.display.HTML object>"
      ]
     },
     "metadata": {},
     "output_type": "display_data"
    },
    {
     "data": {
      "text/html": [
       "<span style=\"color:#7E57C2\"><h2 style=\"font-size:16px\">Hyperparameters:</h2></span>"
      ],
      "text/plain": [
       "<IPython.core.display.HTML object>"
      ]
     },
     "metadata": {},
     "output_type": "display_data"
    },
    {
     "data": {
      "text/html": [
       "<span style=\"color:cyan\"> |-learning_rate: 0.001</span>"
      ],
      "text/plain": [
       "<IPython.core.display.HTML object>"
      ]
     },
     "metadata": {},
     "output_type": "display_data"
    },
    {
     "data": {
      "text/html": [
       "<span style=\"color:blue\"> |-tuner/bracket: 6</span>"
      ],
      "text/plain": [
       "<IPython.core.display.HTML object>"
      ]
     },
     "metadata": {},
     "output_type": "display_data"
    },
    {
     "data": {
      "text/html": [
       "<span style=\"color:cyan\"> |-tuner/epochs: 2</span>"
      ],
      "text/plain": [
       "<IPython.core.display.HTML object>"
      ]
     },
     "metadata": {},
     "output_type": "display_data"
    },
    {
     "data": {
      "text/html": [
       "<span style=\"color:blue\"> |-tuner/initial_epoch: 0</span>"
      ],
      "text/plain": [
       "<IPython.core.display.HTML object>"
      ]
     },
     "metadata": {},
     "output_type": "display_data"
    },
    {
     "data": {
      "text/html": [
       "<span style=\"color:cyan\"> |-tuner/round: 0</span>"
      ],
      "text/plain": [
       "<IPython.core.display.HTML object>"
      ]
     },
     "metadata": {},
     "output_type": "display_data"
    },
    {
     "data": {
      "text/html": [
       "<span style=\"color:blue\"> |-units: 64</span>"
      ],
      "text/plain": [
       "<IPython.core.display.HTML object>"
      ]
     },
     "metadata": {},
     "output_type": "display_data"
    },
    {
     "name": "stdout",
     "output_type": "stream",
     "text": [
      "Model: \"sequential\"\n",
      "_________________________________________________________________\n",
      "Layer (type)                 Output Shape              Param #   \n",
      "=================================================================\n",
      "lstm (LSTM)                  (None, 120, 48)           12864     \n",
      "_________________________________________________________________\n",
      "dropout (Dropout)            (None, 120, 48)           0         \n",
      "_________________________________________________________________\n",
      "lstm_1 (LSTM)                (None, 48)                18624     \n",
      "_________________________________________________________________\n",
      "dropout_1 (Dropout)          (None, 48)                0         \n",
      "_________________________________________________________________\n",
      "dense (Dense)                (None, 3)                 147       \n",
      "=================================================================\n",
      "Total params: 31,635\n",
      "Trainable params: 31,635\n",
      "Non-trainable params: 0\n",
      "_________________________________________________________________\n"
     ]
    },
    {
     "data": {
      "text/html": [
       "<span style=\"color:#4527A0\"><h1 style=\"font-size:18px\">Trial complete</h1></span>"
      ],
      "text/plain": [
       "<IPython.core.display.HTML object>"
      ]
     },
     "metadata": {},
     "output_type": "display_data"
    },
    {
     "data": {
      "text/html": [
       "<span style=\"color:#4527A0\"><h1 style=\"font-size:18px\">Trial summary</h1></span>"
      ],
      "text/plain": [
       "<IPython.core.display.HTML object>"
      ]
     },
     "metadata": {},
     "output_type": "display_data"
    },
    {
     "data": {
      "text/html": [
       "<span style=\"color:cyan\"> |-Trial ID: d45038b96a27fcdef578a085e6ccb2be</span>"
      ],
      "text/plain": [
       "<IPython.core.display.HTML object>"
      ]
     },
     "metadata": {},
     "output_type": "display_data"
    },
    {
     "data": {
      "text/html": [
       "<span style=\"color:cyan\"> |-Score: 0.09162046015262604</span>"
      ],
      "text/plain": [
       "<IPython.core.display.HTML object>"
      ]
     },
     "metadata": {},
     "output_type": "display_data"
    },
    {
     "data": {
      "text/html": [
       "<span style=\"color:cyan\"> |-Best step: 0</span>"
      ],
      "text/plain": [
       "<IPython.core.display.HTML object>"
      ]
     },
     "metadata": {},
     "output_type": "display_data"
    },
    {
     "data": {
      "text/html": [
       "<span style=\"color:#7E57C2\"><h2 style=\"font-size:16px\">Hyperparameters:</h2></span>"
      ],
      "text/plain": [
       "<IPython.core.display.HTML object>"
      ]
     },
     "metadata": {},
     "output_type": "display_data"
    },
    {
     "data": {
      "text/html": [
       "<span style=\"color:cyan\"> |-learning_rate: 0.001</span>"
      ],
      "text/plain": [
       "<IPython.core.display.HTML object>"
      ]
     },
     "metadata": {},
     "output_type": "display_data"
    },
    {
     "data": {
      "text/html": [
       "<span style=\"color:blue\"> |-tuner/bracket: 6</span>"
      ],
      "text/plain": [
       "<IPython.core.display.HTML object>"
      ]
     },
     "metadata": {},
     "output_type": "display_data"
    },
    {
     "data": {
      "text/html": [
       "<span style=\"color:cyan\"> |-tuner/epochs: 2</span>"
      ],
      "text/plain": [
       "<IPython.core.display.HTML object>"
      ]
     },
     "metadata": {},
     "output_type": "display_data"
    },
    {
     "data": {
      "text/html": [
       "<span style=\"color:blue\"> |-tuner/initial_epoch: 0</span>"
      ],
      "text/plain": [
       "<IPython.core.display.HTML object>"
      ]
     },
     "metadata": {},
     "output_type": "display_data"
    },
    {
     "data": {
      "text/html": [
       "<span style=\"color:cyan\"> |-tuner/round: 0</span>"
      ],
      "text/plain": [
       "<IPython.core.display.HTML object>"
      ]
     },
     "metadata": {},
     "output_type": "display_data"
    },
    {
     "data": {
      "text/html": [
       "<span style=\"color:blue\"> |-units: 48</span>"
      ],
      "text/plain": [
       "<IPython.core.display.HTML object>"
      ]
     },
     "metadata": {},
     "output_type": "display_data"
    },
    {
     "name": "stdout",
     "output_type": "stream",
     "text": [
      "Model: \"sequential\"\n",
      "_________________________________________________________________\n",
      "Layer (type)                 Output Shape              Param #   \n",
      "=================================================================\n",
      "lstm (LSTM)                  (None, 120, 64)           21248     \n",
      "_________________________________________________________________\n",
      "dropout (Dropout)            (None, 120, 64)           0         \n",
      "_________________________________________________________________\n",
      "lstm_1 (LSTM)                (None, 64)                33024     \n",
      "_________________________________________________________________\n",
      "dropout_1 (Dropout)          (None, 64)                0         \n",
      "_________________________________________________________________\n",
      "dense (Dense)                (None, 3)                 195       \n",
      "=================================================================\n",
      "Total params: 54,467\n",
      "Trainable params: 54,467\n",
      "Non-trainable params: 0\n",
      "_________________________________________________________________\n"
     ]
    },
    {
     "data": {
      "text/html": [
       "<span style=\"color:#4527A0\"><h1 style=\"font-size:18px\">Trial complete</h1></span>"
      ],
      "text/plain": [
       "<IPython.core.display.HTML object>"
      ]
     },
     "metadata": {},
     "output_type": "display_data"
    },
    {
     "data": {
      "text/html": [
       "<span style=\"color:#4527A0\"><h1 style=\"font-size:18px\">Trial summary</h1></span>"
      ],
      "text/plain": [
       "<IPython.core.display.HTML object>"
      ]
     },
     "metadata": {},
     "output_type": "display_data"
    },
    {
     "data": {
      "text/html": [
       "<span style=\"color:cyan\"> |-Trial ID: 7fb1cda54a2af3efc6c6aa75e7dc7bfd</span>"
      ],
      "text/plain": [
       "<IPython.core.display.HTML object>"
      ]
     },
     "metadata": {},
     "output_type": "display_data"
    },
    {
     "data": {
      "text/html": [
       "<span style=\"color:cyan\"> |-Score: 0.055348530411720276</span>"
      ],
      "text/plain": [
       "<IPython.core.display.HTML object>"
      ]
     },
     "metadata": {},
     "output_type": "display_data"
    },
    {
     "data": {
      "text/html": [
       "<span style=\"color:cyan\"> |-Best step: 0</span>"
      ],
      "text/plain": [
       "<IPython.core.display.HTML object>"
      ]
     },
     "metadata": {},
     "output_type": "display_data"
    },
    {
     "data": {
      "text/html": [
       "<span style=\"color:#7E57C2\"><h2 style=\"font-size:16px\">Hyperparameters:</h2></span>"
      ],
      "text/plain": [
       "<IPython.core.display.HTML object>"
      ]
     },
     "metadata": {},
     "output_type": "display_data"
    },
    {
     "data": {
      "text/html": [
       "<span style=\"color:cyan\"> |-learning_rate: 0.01</span>"
      ],
      "text/plain": [
       "<IPython.core.display.HTML object>"
      ]
     },
     "metadata": {},
     "output_type": "display_data"
    },
    {
     "data": {
      "text/html": [
       "<span style=\"color:blue\"> |-tuner/bracket: 6</span>"
      ],
      "text/plain": [
       "<IPython.core.display.HTML object>"
      ]
     },
     "metadata": {},
     "output_type": "display_data"
    },
    {
     "data": {
      "text/html": [
       "<span style=\"color:cyan\"> |-tuner/epochs: 2</span>"
      ],
      "text/plain": [
       "<IPython.core.display.HTML object>"
      ]
     },
     "metadata": {},
     "output_type": "display_data"
    },
    {
     "data": {
      "text/html": [
       "<span style=\"color:blue\"> |-tuner/initial_epoch: 0</span>"
      ],
      "text/plain": [
       "<IPython.core.display.HTML object>"
      ]
     },
     "metadata": {},
     "output_type": "display_data"
    },
    {
     "data": {
      "text/html": [
       "<span style=\"color:cyan\"> |-tuner/round: 0</span>"
      ],
      "text/plain": [
       "<IPython.core.display.HTML object>"
      ]
     },
     "metadata": {},
     "output_type": "display_data"
    },
    {
     "data": {
      "text/html": [
       "<span style=\"color:blue\"> |-units: 64</span>"
      ],
      "text/plain": [
       "<IPython.core.display.HTML object>"
      ]
     },
     "metadata": {},
     "output_type": "display_data"
    },
    {
     "name": "stdout",
     "output_type": "stream",
     "text": [
      "Model: \"sequential\"\n",
      "_________________________________________________________________\n",
      "Layer (type)                 Output Shape              Param #   \n",
      "=================================================================\n",
      "lstm (LSTM)                  (None, 120, 32)           6528      \n",
      "_________________________________________________________________\n",
      "dropout (Dropout)            (None, 120, 32)           0         \n",
      "_________________________________________________________________\n",
      "lstm_1 (LSTM)                (None, 32)                8320      \n",
      "_________________________________________________________________\n",
      "dropout_1 (Dropout)          (None, 32)                0         \n",
      "_________________________________________________________________\n",
      "dense (Dense)                (None, 3)                 99        \n",
      "=================================================================\n",
      "Total params: 14,947\n",
      "Trainable params: 14,947\n",
      "Non-trainable params: 0\n",
      "_________________________________________________________________\n"
     ]
    },
    {
     "data": {
      "text/html": [
       "<span style=\"color:#4527A0\"><h1 style=\"font-size:18px\">Trial complete</h1></span>"
      ],
      "text/plain": [
       "<IPython.core.display.HTML object>"
      ]
     },
     "metadata": {},
     "output_type": "display_data"
    },
    {
     "data": {
      "text/html": [
       "<span style=\"color:#4527A0\"><h1 style=\"font-size:18px\">Trial summary</h1></span>"
      ],
      "text/plain": [
       "<IPython.core.display.HTML object>"
      ]
     },
     "metadata": {},
     "output_type": "display_data"
    },
    {
     "data": {
      "text/html": [
       "<span style=\"color:cyan\"> |-Trial ID: 21de74a927b281b160ff18ac0d338add</span>"
      ],
      "text/plain": [
       "<IPython.core.display.HTML object>"
      ]
     },
     "metadata": {},
     "output_type": "display_data"
    },
    {
     "data": {
      "text/html": [
       "<span style=\"color:cyan\"> |-Score: 4.4473652839660645</span>"
      ],
      "text/plain": [
       "<IPython.core.display.HTML object>"
      ]
     },
     "metadata": {},
     "output_type": "display_data"
    },
    {
     "data": {
      "text/html": [
       "<span style=\"color:cyan\"> |-Best step: 0</span>"
      ],
      "text/plain": [
       "<IPython.core.display.HTML object>"
      ]
     },
     "metadata": {},
     "output_type": "display_data"
    },
    {
     "data": {
      "text/html": [
       "<span style=\"color:#7E57C2\"><h2 style=\"font-size:16px\">Hyperparameters:</h2></span>"
      ],
      "text/plain": [
       "<IPython.core.display.HTML object>"
      ]
     },
     "metadata": {},
     "output_type": "display_data"
    },
    {
     "data": {
      "text/html": [
       "<span style=\"color:cyan\"> |-learning_rate: 0.0001</span>"
      ],
      "text/plain": [
       "<IPython.core.display.HTML object>"
      ]
     },
     "metadata": {},
     "output_type": "display_data"
    },
    {
     "data": {
      "text/html": [
       "<span style=\"color:blue\"> |-tuner/bracket: 6</span>"
      ],
      "text/plain": [
       "<IPython.core.display.HTML object>"
      ]
     },
     "metadata": {},
     "output_type": "display_data"
    },
    {
     "data": {
      "text/html": [
       "<span style=\"color:cyan\"> |-tuner/epochs: 2</span>"
      ],
      "text/plain": [
       "<IPython.core.display.HTML object>"
      ]
     },
     "metadata": {},
     "output_type": "display_data"
    },
    {
     "data": {
      "text/html": [
       "<span style=\"color:blue\"> |-tuner/initial_epoch: 0</span>"
      ],
      "text/plain": [
       "<IPython.core.display.HTML object>"
      ]
     },
     "metadata": {},
     "output_type": "display_data"
    },
    {
     "data": {
      "text/html": [
       "<span style=\"color:cyan\"> |-tuner/round: 0</span>"
      ],
      "text/plain": [
       "<IPython.core.display.HTML object>"
      ]
     },
     "metadata": {},
     "output_type": "display_data"
    },
    {
     "data": {
      "text/html": [
       "<span style=\"color:blue\"> |-units: 32</span>"
      ],
      "text/plain": [
       "<IPython.core.display.HTML object>"
      ]
     },
     "metadata": {},
     "output_type": "display_data"
    },
    {
     "name": "stdout",
     "output_type": "stream",
     "text": [
      "Model: \"sequential\"\n",
      "_________________________________________________________________\n",
      "Layer (type)                 Output Shape              Param #   \n",
      "=================================================================\n",
      "lstm (LSTM)                  (None, 120, 96)           44160     \n",
      "_________________________________________________________________\n",
      "dropout (Dropout)            (None, 120, 96)           0         \n",
      "_________________________________________________________________\n",
      "lstm_1 (LSTM)                (None, 96)                74112     \n",
      "_________________________________________________________________\n",
      "dropout_1 (Dropout)          (None, 96)                0         \n",
      "_________________________________________________________________\n",
      "dense (Dense)                (None, 3)                 291       \n",
      "=================================================================\n",
      "Total params: 118,563\n",
      "Trainable params: 118,563\n",
      "Non-trainable params: 0\n",
      "_________________________________________________________________\n"
     ]
    },
    {
     "data": {
      "text/html": [
       "<span style=\"color:#4527A0\"><h1 style=\"font-size:18px\">Trial complete</h1></span>"
      ],
      "text/plain": [
       "<IPython.core.display.HTML object>"
      ]
     },
     "metadata": {},
     "output_type": "display_data"
    },
    {
     "data": {
      "text/html": [
       "<span style=\"color:#4527A0\"><h1 style=\"font-size:18px\">Trial summary</h1></span>"
      ],
      "text/plain": [
       "<IPython.core.display.HTML object>"
      ]
     },
     "metadata": {},
     "output_type": "display_data"
    },
    {
     "data": {
      "text/html": [
       "<span style=\"color:cyan\"> |-Trial ID: a63fb00df9f613ce2be513fa10c2c801</span>"
      ],
      "text/plain": [
       "<IPython.core.display.HTML object>"
      ]
     },
     "metadata": {},
     "output_type": "display_data"
    },
    {
     "data": {
      "text/html": [
       "<span style=\"color:cyan\"> |-Score: 0.03219253942370415</span>"
      ],
      "text/plain": [
       "<IPython.core.display.HTML object>"
      ]
     },
     "metadata": {},
     "output_type": "display_data"
    },
    {
     "data": {
      "text/html": [
       "<span style=\"color:cyan\"> |-Best step: 0</span>"
      ],
      "text/plain": [
       "<IPython.core.display.HTML object>"
      ]
     },
     "metadata": {},
     "output_type": "display_data"
    },
    {
     "data": {
      "text/html": [
       "<span style=\"color:#7E57C2\"><h2 style=\"font-size:16px\">Hyperparameters:</h2></span>"
      ],
      "text/plain": [
       "<IPython.core.display.HTML object>"
      ]
     },
     "metadata": {},
     "output_type": "display_data"
    },
    {
     "data": {
      "text/html": [
       "<span style=\"color:cyan\"> |-learning_rate: 0.001</span>"
      ],
      "text/plain": [
       "<IPython.core.display.HTML object>"
      ]
     },
     "metadata": {},
     "output_type": "display_data"
    },
    {
     "data": {
      "text/html": [
       "<span style=\"color:blue\"> |-tuner/bracket: 6</span>"
      ],
      "text/plain": [
       "<IPython.core.display.HTML object>"
      ]
     },
     "metadata": {},
     "output_type": "display_data"
    },
    {
     "data": {
      "text/html": [
       "<span style=\"color:cyan\"> |-tuner/epochs: 2</span>"
      ],
      "text/plain": [
       "<IPython.core.display.HTML object>"
      ]
     },
     "metadata": {},
     "output_type": "display_data"
    },
    {
     "data": {
      "text/html": [
       "<span style=\"color:blue\"> |-tuner/initial_epoch: 0</span>"
      ],
      "text/plain": [
       "<IPython.core.display.HTML object>"
      ]
     },
     "metadata": {},
     "output_type": "display_data"
    },
    {
     "data": {
      "text/html": [
       "<span style=\"color:cyan\"> |-tuner/round: 0</span>"
      ],
      "text/plain": [
       "<IPython.core.display.HTML object>"
      ]
     },
     "metadata": {},
     "output_type": "display_data"
    },
    {
     "data": {
      "text/html": [
       "<span style=\"color:blue\"> |-units: 96</span>"
      ],
      "text/plain": [
       "<IPython.core.display.HTML object>"
      ]
     },
     "metadata": {},
     "output_type": "display_data"
    },
    {
     "name": "stdout",
     "output_type": "stream",
     "text": [
      "Model: \"sequential\"\n",
      "_________________________________________________________________\n",
      "Layer (type)                 Output Shape              Param #   \n",
      "=================================================================\n",
      "lstm (LSTM)                  (None, 120, 128)          75264     \n",
      "_________________________________________________________________\n",
      "dropout (Dropout)            (None, 120, 128)          0         \n",
      "_________________________________________________________________\n",
      "lstm_1 (LSTM)                (None, 128)               131584    \n",
      "_________________________________________________________________\n",
      "dropout_1 (Dropout)          (None, 128)               0         \n",
      "_________________________________________________________________\n",
      "dense (Dense)                (None, 3)                 387       \n",
      "=================================================================\n",
      "Total params: 207,235\n",
      "Trainable params: 207,235\n",
      "Non-trainable params: 0\n",
      "_________________________________________________________________\n"
     ]
    },
    {
     "data": {
      "text/html": [
       "<span style=\"color:#4527A0\"><h1 style=\"font-size:18px\">Trial complete</h1></span>"
      ],
      "text/plain": [
       "<IPython.core.display.HTML object>"
      ]
     },
     "metadata": {},
     "output_type": "display_data"
    },
    {
     "data": {
      "text/html": [
       "<span style=\"color:#4527A0\"><h1 style=\"font-size:18px\">Trial summary</h1></span>"
      ],
      "text/plain": [
       "<IPython.core.display.HTML object>"
      ]
     },
     "metadata": {},
     "output_type": "display_data"
    },
    {
     "data": {
      "text/html": [
       "<span style=\"color:cyan\"> |-Trial ID: 943d2d9c8359429dfa3e9ae00123d515</span>"
      ],
      "text/plain": [
       "<IPython.core.display.HTML object>"
      ]
     },
     "metadata": {},
     "output_type": "display_data"
    },
    {
     "data": {
      "text/html": [
       "<span style=\"color:cyan\"> |-Score: 0.09391286224126816</span>"
      ],
      "text/plain": [
       "<IPython.core.display.HTML object>"
      ]
     },
     "metadata": {},
     "output_type": "display_data"
    },
    {
     "data": {
      "text/html": [
       "<span style=\"color:cyan\"> |-Best step: 0</span>"
      ],
      "text/plain": [
       "<IPython.core.display.HTML object>"
      ]
     },
     "metadata": {},
     "output_type": "display_data"
    },
    {
     "data": {
      "text/html": [
       "<span style=\"color:#7E57C2\"><h2 style=\"font-size:16px\">Hyperparameters:</h2></span>"
      ],
      "text/plain": [
       "<IPython.core.display.HTML object>"
      ]
     },
     "metadata": {},
     "output_type": "display_data"
    },
    {
     "data": {
      "text/html": [
       "<span style=\"color:cyan\"> |-learning_rate: 0.0001</span>"
      ],
      "text/plain": [
       "<IPython.core.display.HTML object>"
      ]
     },
     "metadata": {},
     "output_type": "display_data"
    },
    {
     "data": {
      "text/html": [
       "<span style=\"color:blue\"> |-tuner/bracket: 6</span>"
      ],
      "text/plain": [
       "<IPython.core.display.HTML object>"
      ]
     },
     "metadata": {},
     "output_type": "display_data"
    },
    {
     "data": {
      "text/html": [
       "<span style=\"color:cyan\"> |-tuner/epochs: 2</span>"
      ],
      "text/plain": [
       "<IPython.core.display.HTML object>"
      ]
     },
     "metadata": {},
     "output_type": "display_data"
    },
    {
     "data": {
      "text/html": [
       "<span style=\"color:blue\"> |-tuner/initial_epoch: 0</span>"
      ],
      "text/plain": [
       "<IPython.core.display.HTML object>"
      ]
     },
     "metadata": {},
     "output_type": "display_data"
    },
    {
     "data": {
      "text/html": [
       "<span style=\"color:cyan\"> |-tuner/round: 0</span>"
      ],
      "text/plain": [
       "<IPython.core.display.HTML object>"
      ]
     },
     "metadata": {},
     "output_type": "display_data"
    },
    {
     "data": {
      "text/html": [
       "<span style=\"color:blue\"> |-units: 128</span>"
      ],
      "text/plain": [
       "<IPython.core.display.HTML object>"
      ]
     },
     "metadata": {},
     "output_type": "display_data"
    },
    {
     "name": "stdout",
     "output_type": "stream",
     "text": [
      "Model: \"sequential\"\n",
      "_________________________________________________________________\n",
      "Layer (type)                 Output Shape              Param #   \n",
      "=================================================================\n",
      "lstm (LSTM)                  (None, 120, 128)          75264     \n",
      "_________________________________________________________________\n",
      "dropout (Dropout)            (None, 120, 128)          0         \n",
      "_________________________________________________________________\n",
      "lstm_1 (LSTM)                (None, 128)               131584    \n",
      "_________________________________________________________________\n",
      "dropout_1 (Dropout)          (None, 128)               0         \n",
      "_________________________________________________________________\n",
      "dense (Dense)                (None, 3)                 387       \n",
      "=================================================================\n",
      "Total params: 207,235\n",
      "Trainable params: 207,235\n",
      "Non-trainable params: 0\n",
      "_________________________________________________________________\n"
     ]
    },
    {
     "data": {
      "text/html": [
       "<span style=\"color:#4527A0\"><h1 style=\"font-size:18px\">Trial complete</h1></span>"
      ],
      "text/plain": [
       "<IPython.core.display.HTML object>"
      ]
     },
     "metadata": {},
     "output_type": "display_data"
    },
    {
     "data": {
      "text/html": [
       "<span style=\"color:#4527A0\"><h1 style=\"font-size:18px\">Trial summary</h1></span>"
      ],
      "text/plain": [
       "<IPython.core.display.HTML object>"
      ]
     },
     "metadata": {},
     "output_type": "display_data"
    },
    {
     "data": {
      "text/html": [
       "<span style=\"color:cyan\"> |-Trial ID: b16196bfaaa9aed1bbb8e2f7c5508729</span>"
      ],
      "text/plain": [
       "<IPython.core.display.HTML object>"
      ]
     },
     "metadata": {},
     "output_type": "display_data"
    },
    {
     "data": {
      "text/html": [
       "<span style=\"color:cyan\"> |-Score: 0.02472889982163906</span>"
      ],
      "text/plain": [
       "<IPython.core.display.HTML object>"
      ]
     },
     "metadata": {},
     "output_type": "display_data"
    },
    {
     "data": {
      "text/html": [
       "<span style=\"color:cyan\"> |-Best step: 0</span>"
      ],
      "text/plain": [
       "<IPython.core.display.HTML object>"
      ]
     },
     "metadata": {},
     "output_type": "display_data"
    },
    {
     "data": {
      "text/html": [
       "<span style=\"color:#7E57C2\"><h2 style=\"font-size:16px\">Hyperparameters:</h2></span>"
      ],
      "text/plain": [
       "<IPython.core.display.HTML object>"
      ]
     },
     "metadata": {},
     "output_type": "display_data"
    },
    {
     "data": {
      "text/html": [
       "<span style=\"color:cyan\"> |-learning_rate: 0.001</span>"
      ],
      "text/plain": [
       "<IPython.core.display.HTML object>"
      ]
     },
     "metadata": {},
     "output_type": "display_data"
    },
    {
     "data": {
      "text/html": [
       "<span style=\"color:blue\"> |-tuner/bracket: 6</span>"
      ],
      "text/plain": [
       "<IPython.core.display.HTML object>"
      ]
     },
     "metadata": {},
     "output_type": "display_data"
    },
    {
     "data": {
      "text/html": [
       "<span style=\"color:cyan\"> |-tuner/epochs: 2</span>"
      ],
      "text/plain": [
       "<IPython.core.display.HTML object>"
      ]
     },
     "metadata": {},
     "output_type": "display_data"
    },
    {
     "data": {
      "text/html": [
       "<span style=\"color:blue\"> |-tuner/initial_epoch: 0</span>"
      ],
      "text/plain": [
       "<IPython.core.display.HTML object>"
      ]
     },
     "metadata": {},
     "output_type": "display_data"
    },
    {
     "data": {
      "text/html": [
       "<span style=\"color:cyan\"> |-tuner/round: 0</span>"
      ],
      "text/plain": [
       "<IPython.core.display.HTML object>"
      ]
     },
     "metadata": {},
     "output_type": "display_data"
    },
    {
     "data": {
      "text/html": [
       "<span style=\"color:blue\"> |-units: 128</span>"
      ],
      "text/plain": [
       "<IPython.core.display.HTML object>"
      ]
     },
     "metadata": {},
     "output_type": "display_data"
    },
    {
     "name": "stdout",
     "output_type": "stream",
     "text": [
      "Model: \"sequential\"\n",
      "_________________________________________________________________\n",
      "Layer (type)                 Output Shape              Param #   \n",
      "=================================================================\n",
      "lstm (LSTM)                  (None, 120, 48)           12864     \n",
      "_________________________________________________________________\n",
      "dropout (Dropout)            (None, 120, 48)           0         \n",
      "_________________________________________________________________\n",
      "lstm_1 (LSTM)                (None, 48)                18624     \n",
      "_________________________________________________________________\n",
      "dropout_1 (Dropout)          (None, 48)                0         \n",
      "_________________________________________________________________\n",
      "dense (Dense)                (None, 3)                 147       \n",
      "=================================================================\n",
      "Total params: 31,635\n",
      "Trainable params: 31,635\n",
      "Non-trainable params: 0\n",
      "_________________________________________________________________\n"
     ]
    },
    {
     "data": {
      "text/html": [
       "<span style=\"color:#4527A0\"><h1 style=\"font-size:18px\">Trial complete</h1></span>"
      ],
      "text/plain": [
       "<IPython.core.display.HTML object>"
      ]
     },
     "metadata": {},
     "output_type": "display_data"
    },
    {
     "data": {
      "text/html": [
       "<span style=\"color:#4527A0\"><h1 style=\"font-size:18px\">Trial summary</h1></span>"
      ],
      "text/plain": [
       "<IPython.core.display.HTML object>"
      ]
     },
     "metadata": {},
     "output_type": "display_data"
    },
    {
     "data": {
      "text/html": [
       "<span style=\"color:cyan\"> |-Trial ID: c55dd567ce0bbf522f74acadeef10826</span>"
      ],
      "text/plain": [
       "<IPython.core.display.HTML object>"
      ]
     },
     "metadata": {},
     "output_type": "display_data"
    },
    {
     "data": {
      "text/html": [
       "<span style=\"color:cyan\"> |-Score: 1.5497900247573853</span>"
      ],
      "text/plain": [
       "<IPython.core.display.HTML object>"
      ]
     },
     "metadata": {},
     "output_type": "display_data"
    },
    {
     "data": {
      "text/html": [
       "<span style=\"color:cyan\"> |-Best step: 0</span>"
      ],
      "text/plain": [
       "<IPython.core.display.HTML object>"
      ]
     },
     "metadata": {},
     "output_type": "display_data"
    },
    {
     "data": {
      "text/html": [
       "<span style=\"color:#7E57C2\"><h2 style=\"font-size:16px\">Hyperparameters:</h2></span>"
      ],
      "text/plain": [
       "<IPython.core.display.HTML object>"
      ]
     },
     "metadata": {},
     "output_type": "display_data"
    },
    {
     "data": {
      "text/html": [
       "<span style=\"color:cyan\"> |-learning_rate: 0.0001</span>"
      ],
      "text/plain": [
       "<IPython.core.display.HTML object>"
      ]
     },
     "metadata": {},
     "output_type": "display_data"
    },
    {
     "data": {
      "text/html": [
       "<span style=\"color:blue\"> |-tuner/bracket: 6</span>"
      ],
      "text/plain": [
       "<IPython.core.display.HTML object>"
      ]
     },
     "metadata": {},
     "output_type": "display_data"
    },
    {
     "data": {
      "text/html": [
       "<span style=\"color:cyan\"> |-tuner/epochs: 2</span>"
      ],
      "text/plain": [
       "<IPython.core.display.HTML object>"
      ]
     },
     "metadata": {},
     "output_type": "display_data"
    },
    {
     "data": {
      "text/html": [
       "<span style=\"color:blue\"> |-tuner/initial_epoch: 0</span>"
      ],
      "text/plain": [
       "<IPython.core.display.HTML object>"
      ]
     },
     "metadata": {},
     "output_type": "display_data"
    },
    {
     "data": {
      "text/html": [
       "<span style=\"color:cyan\"> |-tuner/round: 0</span>"
      ],
      "text/plain": [
       "<IPython.core.display.HTML object>"
      ]
     },
     "metadata": {},
     "output_type": "display_data"
    },
    {
     "data": {
      "text/html": [
       "<span style=\"color:blue\"> |-units: 48</span>"
      ],
      "text/plain": [
       "<IPython.core.display.HTML object>"
      ]
     },
     "metadata": {},
     "output_type": "display_data"
    },
    {
     "name": "stdout",
     "output_type": "stream",
     "text": [
      "INFO:tensorflow:Oracle triggered exit\n"
     ]
    }
   ],
   "source": [
    "toggle_code()\n",
    "\n",
    "tuner.search(x_train, y_train, epochs=1000, batch_size=32, validation_split=0.2, shuffle=False, verbose=0)"
   ]
  },
  {
   "cell_type": "markdown",
   "metadata": {},
   "source": [
    "* What's the best model looking like?"
   ]
  },
  {
   "cell_type": "code",
   "execution_count": 9,
   "metadata": {
    "scrolled": true
   },
   "outputs": [
    {
     "data": {
      "text/html": [
       "\n",
       "<form action=\"javascript:code_toggle()\"><input type=\"submit\" id=\"toggleButton\" value=\"Show Source Code\"></form>\n"
      ],
      "text/plain": [
       "<IPython.core.display.HTML object>"
      ]
     },
     "metadata": {},
     "output_type": "display_data"
    },
    {
     "name": "stdout",
     "output_type": "stream",
     "text": [
      "Model: \"sequential\"\n",
      "_________________________________________________________________\n",
      "Layer (type)                 Output Shape              Param #   \n",
      "=================================================================\n",
      "lstm (LSTM)                  (None, 120, 128)          75264     \n",
      "_________________________________________________________________\n",
      "dropout (Dropout)            (None, 120, 128)          0         \n",
      "_________________________________________________________________\n",
      "lstm_1 (LSTM)                (None, 128)               131584    \n",
      "_________________________________________________________________\n",
      "dropout_1 (Dropout)          (None, 128)               0         \n",
      "_________________________________________________________________\n",
      "dense (Dense)                (None, 3)                 387       \n",
      "=================================================================\n",
      "Total params: 207,235\n",
      "Trainable params: 207,235\n",
      "Non-trainable params: 0\n",
      "_________________________________________________________________\n"
     ]
    }
   ],
   "source": [
    "toggle_code()\n",
    "\n",
    "models = tuner.get_best_models(num_models=1)"
   ]
  },
  {
   "cell_type": "markdown",
   "metadata": {},
   "source": [
    "* Since Keras tuner only did a preliminary parameter search, we will continue fit the best model with train dataset.\n",
    "\n",
    "    The train and validation loss plot shows the model learing progress. It also helps to indicate when to stop to avoid overfitting."
   ]
  },
  {
   "cell_type": "code",
   "execution_count": 10,
   "metadata": {},
   "outputs": [
    {
     "data": {
      "text/html": [
       "\n",
       "<form action=\"javascript:code_toggle()\"><input type=\"submit\" id=\"toggleButton\" value=\"Show Source Code\"></form>\n"
      ],
      "text/plain": [
       "<IPython.core.display.HTML object>"
      ]
     },
     "metadata": {},
     "output_type": "display_data"
    },
    {
     "name": "stdout",
     "output_type": "stream",
     "text": [
      "Epoch 1/400\n",
      "\n",
      "Epoch 00001: val_loss improved from inf to 0.02660, saving model to best_model_5d_to_0.125d\n",
      "WARNING:tensorflow:From C:\\Users\\taocao\\AppData\\Local\\Continuum\\anaconda3\\lib\\site-packages\\tensorflow\\python\\training\\tracking\\tracking.py:111: Model.state_updates (from tensorflow.python.keras.engine.training) is deprecated and will be removed in a future version.\n",
      "Instructions for updating:\n",
      "This property should not be used in TensorFlow 2.0, as updates are applied automatically.\n",
      "WARNING:tensorflow:From C:\\Users\\taocao\\AppData\\Local\\Continuum\\anaconda3\\lib\\site-packages\\tensorflow\\python\\training\\tracking\\tracking.py:111: Layer.updates (from tensorflow.python.keras.engine.base_layer) is deprecated and will be removed in a future version.\n",
      "Instructions for updating:\n",
      "This property should not be used in TensorFlow 2.0, as updates are applied automatically.\n",
      "INFO:tensorflow:Assets written to: best_model_5d_to_0.125d\\assets\n",
      "165/165 - 23s - loss: 0.1645 - val_loss: 0.0266\n",
      "Epoch 2/400\n",
      "\n",
      "Epoch 00002: val_loss improved from 0.02660 to 0.02417, saving model to best_model_5d_to_0.125d\n",
      "INFO:tensorflow:Assets written to: best_model_5d_to_0.125d\\assets\n",
      "165/165 - 23s - loss: 0.1438 - val_loss: 0.0242\n",
      "Epoch 3/400\n",
      "\n",
      "Epoch 00003: val_loss did not improve from 0.02417\n",
      "165/165 - 19s - loss: 0.1283 - val_loss: 0.0262\n",
      "Epoch 4/400\n",
      "\n",
      "Epoch 00004: val_loss improved from 0.02417 to 0.01787, saving model to best_model_5d_to_0.125d\n",
      "INFO:tensorflow:Assets written to: best_model_5d_to_0.125d\\assets\n",
      "165/165 - 24s - loss: 0.1156 - val_loss: 0.0179\n",
      "Epoch 5/400\n",
      "\n",
      "Epoch 00005: val_loss did not improve from 0.01787\n",
      "165/165 - 20s - loss: 0.1110 - val_loss: 0.0188\n",
      "Epoch 6/400\n",
      "\n",
      "Epoch 00006: val_loss did not improve from 0.01787\n",
      "165/165 - 19s - loss: 0.1119 - val_loss: 0.0237\n",
      "Epoch 7/400\n",
      "\n",
      "Epoch 00007: val_loss improved from 0.01787 to 0.01500, saving model to best_model_5d_to_0.125d\n",
      "INFO:tensorflow:Assets written to: best_model_5d_to_0.125d\\assets\n",
      "165/165 - 25s - loss: 0.1003 - val_loss: 0.0150\n",
      "Epoch 8/400\n",
      "\n",
      "Epoch 00008: val_loss did not improve from 0.01500\n",
      "165/165 - 21s - loss: 0.0967 - val_loss: 0.0165\n",
      "Epoch 9/400\n",
      "\n",
      "Epoch 00009: val_loss did not improve from 0.01500\n",
      "165/165 - 22s - loss: 0.0973 - val_loss: 0.0192\n",
      "Epoch 10/400\n",
      "\n",
      "Epoch 00010: val_loss did not improve from 0.01500\n",
      "165/165 - 21s - loss: 0.0887 - val_loss: 0.0198\n",
      "Epoch 11/400\n",
      "\n",
      "Epoch 00011: val_loss did not improve from 0.01500\n",
      "165/165 - 21s - loss: 0.0884 - val_loss: 0.0212\n",
      "Epoch 12/400\n",
      "\n",
      "Epoch 00012: val_loss did not improve from 0.01500\n",
      "165/165 - 20s - loss: 0.0858 - val_loss: 0.0168\n",
      "Epoch 13/400\n",
      "\n",
      "Epoch 00013: val_loss improved from 0.01500 to 0.01452, saving model to best_model_5d_to_0.125d\n",
      "INFO:tensorflow:Assets written to: best_model_5d_to_0.125d\\assets\n",
      "165/165 - 25s - loss: 0.0783 - val_loss: 0.0145\n",
      "Epoch 14/400\n",
      "\n",
      "Epoch 00014: val_loss did not improve from 0.01452\n",
      "165/165 - 20s - loss: 0.0778 - val_loss: 0.0161\n",
      "Epoch 15/400\n",
      "\n",
      "Epoch 00015: val_loss did not improve from 0.01452\n",
      "165/165 - 20s - loss: 0.0796 - val_loss: 0.0156\n",
      "Epoch 16/400\n",
      "\n",
      "Epoch 00016: val_loss did not improve from 0.01452\n",
      "165/165 - 20s - loss: 0.0738 - val_loss: 0.0174\n",
      "Epoch 17/400\n",
      "\n",
      "Epoch 00017: val_loss improved from 0.01452 to 0.01433, saving model to best_model_5d_to_0.125d\n",
      "INFO:tensorflow:Assets written to: best_model_5d_to_0.125d\\assets\n",
      "165/165 - 25s - loss: 0.0753 - val_loss: 0.0143\n",
      "Epoch 18/400\n",
      "\n",
      "Epoch 00018: val_loss did not improve from 0.01433\n",
      "165/165 - 21s - loss: 0.0730 - val_loss: 0.0197\n",
      "Epoch 19/400\n",
      "\n",
      "Epoch 00019: val_loss did not improve from 0.01433\n",
      "165/165 - 23s - loss: 0.0734 - val_loss: 0.0301\n",
      "Epoch 20/400\n",
      "\n",
      "Epoch 00020: val_loss did not improve from 0.01433\n",
      "165/165 - 23s - loss: 0.0710 - val_loss: 0.0242\n",
      "Epoch 21/400\n",
      "\n",
      "Epoch 00021: val_loss improved from 0.01433 to 0.01402, saving model to best_model_5d_to_0.125d\n",
      "INFO:tensorflow:Assets written to: best_model_5d_to_0.125d\\assets\n",
      "165/165 - 28s - loss: 0.0691 - val_loss: 0.0140\n",
      "Epoch 22/400\n",
      "\n",
      "Epoch 00022: val_loss did not improve from 0.01402\n",
      "165/165 - 25s - loss: 0.0684 - val_loss: 0.0162\n",
      "Epoch 23/400\n",
      "\n",
      "Epoch 00023: val_loss did not improve from 0.01402\n",
      "165/165 - 25s - loss: 0.0688 - val_loss: 0.0215\n",
      "Epoch 24/400\n",
      "\n",
      "Epoch 00024: val_loss did not improve from 0.01402\n",
      "165/165 - 26s - loss: 0.0673 - val_loss: 0.0269\n",
      "Epoch 25/400\n",
      "\n",
      "Epoch 00025: val_loss did not improve from 0.01402\n",
      "165/165 - 26s - loss: 0.0647 - val_loss: 0.0224\n",
      "Epoch 26/400\n",
      "\n",
      "Epoch 00026: val_loss did not improve from 0.01402\n",
      "165/165 - 26s - loss: 0.0655 - val_loss: 0.0268\n",
      "Epoch 27/400\n",
      "\n",
      "Epoch 00027: val_loss did not improve from 0.01402\n",
      "165/165 - 25s - loss: 0.0647 - val_loss: 0.0243\n",
      "Epoch 28/400\n",
      "\n",
      "Epoch 00028: val_loss did not improve from 0.01402\n",
      "165/165 - 25s - loss: 0.0624 - val_loss: 0.0359\n",
      "Epoch 29/400\n",
      "\n",
      "Epoch 00029: val_loss did not improve from 0.01402\n",
      "165/165 - 25s - loss: 0.0612 - val_loss: 0.0223\n",
      "Epoch 30/400\n",
      "\n",
      "Epoch 00030: val_loss did not improve from 0.01402\n",
      "165/165 - 25s - loss: 0.0632 - val_loss: 0.0408\n",
      "Epoch 31/400\n",
      "\n",
      "Epoch 00031: val_loss did not improve from 0.01402\n",
      "165/165 - 25s - loss: 0.0640 - val_loss: 0.0165\n",
      "Epoch 32/400\n",
      "\n",
      "Epoch 00032: val_loss did not improve from 0.01402\n",
      "165/165 - 25s - loss: 0.0708 - val_loss: 0.0377\n",
      "Epoch 33/400\n",
      "\n",
      "Epoch 00033: val_loss did not improve from 0.01402\n",
      "165/165 - 25s - loss: 0.0622 - val_loss: 0.0381\n",
      "Epoch 34/400\n",
      "\n",
      "Epoch 00034: val_loss did not improve from 0.01402\n",
      "165/165 - 26s - loss: 0.0607 - val_loss: 0.0279\n",
      "Epoch 35/400\n",
      "\n",
      "Epoch 00035: val_loss did not improve from 0.01402\n",
      "165/165 - 25s - loss: 0.0601 - val_loss: 0.0237\n",
      "Epoch 36/400\n",
      "\n",
      "Epoch 00036: val_loss did not improve from 0.01402\n",
      "165/165 - 26s - loss: 0.0609 - val_loss: 0.0179\n",
      "Epoch 37/400\n",
      "\n",
      "Epoch 00037: val_loss did not improve from 0.01402\n",
      "165/165 - 26s - loss: 0.0574 - val_loss: 0.0263\n",
      "Epoch 38/400\n",
      "\n",
      "Epoch 00038: val_loss did not improve from 0.01402\n",
      "165/165 - 25s - loss: 0.0563 - val_loss: 0.0250\n",
      "Epoch 39/400\n",
      "\n",
      "Epoch 00039: val_loss did not improve from 0.01402\n",
      "165/165 - 25s - loss: 0.0623 - val_loss: 0.0197\n",
      "Epoch 40/400\n",
      "\n",
      "Epoch 00040: val_loss did not improve from 0.01402\n",
      "165/165 - 25s - loss: 0.0565 - val_loss: 0.0270\n",
      "Epoch 41/400\n",
      "\n",
      "Epoch 00041: val_loss did not improve from 0.01402\n",
      "165/165 - 25s - loss: 0.0577 - val_loss: 0.0259\n",
      "Epoch 42/400\n",
      "\n",
      "Epoch 00042: val_loss did not improve from 0.01402\n",
      "165/165 - 25s - loss: 0.0535 - val_loss: 0.0229\n",
      "Epoch 43/400\n",
      "\n",
      "Epoch 00043: val_loss did not improve from 0.01402\n",
      "165/165 - 26s - loss: 0.0573 - val_loss: 0.0242\n",
      "Epoch 44/400\n",
      "\n",
      "Epoch 00044: val_loss did not improve from 0.01402\n",
      "165/165 - 25s - loss: 0.0537 - val_loss: 0.0296\n",
      "Epoch 45/400\n",
      "\n",
      "Epoch 00045: val_loss did not improve from 0.01402\n",
      "165/165 - 25s - loss: 0.0577 - val_loss: 0.0146\n",
      "Epoch 46/400\n",
      "\n",
      "Epoch 00046: val_loss did not improve from 0.01402\n",
      "165/165 - 26s - loss: 0.0533 - val_loss: 0.0177\n",
      "Epoch 47/400\n",
      "\n",
      "Epoch 00047: val_loss did not improve from 0.01402\n",
      "165/165 - 26s - loss: 0.0551 - val_loss: 0.0240\n",
      "Epoch 48/400\n",
      "\n",
      "Epoch 00048: val_loss did not improve from 0.01402\n",
      "165/165 - 26s - loss: 0.0555 - val_loss: 0.0215\n",
      "Epoch 49/400\n",
      "\n",
      "Epoch 00049: val_loss did not improve from 0.01402\n",
      "165/165 - 25s - loss: 0.0568 - val_loss: 0.0403\n",
      "Epoch 50/400\n",
      "\n",
      "Epoch 00050: val_loss did not improve from 0.01402\n",
      "165/165 - 25s - loss: 0.0525 - val_loss: 0.0179\n",
      "Epoch 51/400\n",
      "\n",
      "Epoch 00051: val_loss did not improve from 0.01402\n",
      "165/165 - 25s - loss: 0.0551 - val_loss: 0.0168\n",
      "Epoch 52/400\n",
      "\n",
      "Epoch 00052: val_loss did not improve from 0.01402\n",
      "165/165 - 25s - loss: 0.0546 - val_loss: 0.0160\n",
      "Epoch 53/400\n",
      "\n",
      "Epoch 00053: val_loss did not improve from 0.01402\n",
      "165/165 - 25s - loss: 0.0533 - val_loss: 0.0202\n",
      "Epoch 54/400\n",
      "\n",
      "Epoch 00054: val_loss did not improve from 0.01402\n",
      "165/165 - 25s - loss: 0.0509 - val_loss: 0.0264\n",
      "Epoch 55/400\n",
      "\n",
      "Epoch 00055: val_loss did not improve from 0.01402\n",
      "165/165 - 25s - loss: 0.0519 - val_loss: 0.0310\n",
      "Epoch 56/400\n",
      "\n",
      "Epoch 00056: val_loss did not improve from 0.01402\n",
      "165/165 - 25s - loss: 0.0520 - val_loss: 0.0278\n",
      "Epoch 57/400\n",
      "\n",
      "Epoch 00057: val_loss did not improve from 0.01402\n",
      "165/165 - 25s - loss: 0.0494 - val_loss: 0.0229\n",
      "Epoch 58/400\n",
      "\n",
      "Epoch 00058: val_loss did not improve from 0.01402\n",
      "165/165 - 25s - loss: 0.0492 - val_loss: 0.0418\n",
      "Epoch 59/400\n",
      "\n",
      "Epoch 00059: val_loss did not improve from 0.01402\n",
      "165/165 - 26s - loss: 0.0496 - val_loss: 0.0242\n"
     ]
    },
    {
     "name": "stdout",
     "output_type": "stream",
     "text": [
      "Epoch 60/400\n",
      "\n",
      "Epoch 00060: val_loss did not improve from 0.01402\n",
      "165/165 - 26s - loss: 0.0509 - val_loss: 0.0170\n",
      "Epoch 61/400\n",
      "\n",
      "Epoch 00061: val_loss did not improve from 0.01402\n",
      "165/165 - 25s - loss: 0.0516 - val_loss: 0.0366\n",
      "Epoch 62/400\n",
      "\n",
      "Epoch 00062: val_loss did not improve from 0.01402\n",
      "165/165 - 25s - loss: 0.0491 - val_loss: 0.0254\n",
      "Epoch 63/400\n",
      "\n",
      "Epoch 00063: val_loss did not improve from 0.01402\n",
      "165/165 - 26s - loss: 0.0491 - val_loss: 0.0484\n",
      "Epoch 64/400\n",
      "\n",
      "Epoch 00064: val_loss did not improve from 0.01402\n",
      "165/165 - 25s - loss: 0.0484 - val_loss: 0.0309\n",
      "Epoch 65/400\n",
      "\n",
      "Epoch 00065: val_loss did not improve from 0.01402\n",
      "165/165 - 26s - loss: 0.0495 - val_loss: 0.0426\n",
      "Epoch 66/400\n",
      "\n",
      "Epoch 00066: val_loss did not improve from 0.01402\n",
      "165/165 - 26s - loss: 0.0480 - val_loss: 0.0349\n",
      "Epoch 67/400\n",
      "\n",
      "Epoch 00067: val_loss did not improve from 0.01402\n",
      "165/165 - 26s - loss: 0.0487 - val_loss: 0.0350\n",
      "Epoch 68/400\n",
      "\n",
      "Epoch 00068: val_loss did not improve from 0.01402\n",
      "165/165 - 26s - loss: 0.0496 - val_loss: 0.0300\n",
      "Epoch 69/400\n",
      "\n",
      "Epoch 00069: val_loss did not improve from 0.01402\n",
      "165/165 - 25s - loss: 0.0487 - val_loss: 0.0522\n",
      "Epoch 70/400\n",
      "\n",
      "Epoch 00070: val_loss did not improve from 0.01402\n",
      "165/165 - 26s - loss: 0.0469 - val_loss: 0.0346\n",
      "Epoch 71/400\n",
      "\n",
      "Epoch 00071: val_loss did not improve from 0.01402\n",
      "165/165 - 26s - loss: 0.0478 - val_loss: 0.0546\n",
      "Epoch 72/400\n",
      "\n",
      "Epoch 00072: val_loss did not improve from 0.01402\n",
      "165/165 - 26s - loss: 0.0494 - val_loss: 0.0305\n",
      "Epoch 73/400\n",
      "\n",
      "Epoch 00073: val_loss did not improve from 0.01402\n",
      "165/165 - 25s - loss: 0.0468 - val_loss: 0.0383\n",
      "Epoch 74/400\n",
      "\n",
      "Epoch 00074: val_loss did not improve from 0.01402\n",
      "165/165 - 25s - loss: 0.0462 - val_loss: 0.0410\n",
      "Epoch 75/400\n",
      "\n",
      "Epoch 00075: val_loss did not improve from 0.01402\n",
      "165/165 - 26s - loss: 0.0455 - val_loss: 0.0487\n",
      "Epoch 76/400\n",
      "\n",
      "Epoch 00076: val_loss did not improve from 0.01402\n",
      "165/165 - 25s - loss: 0.0456 - val_loss: 0.0485\n",
      "Epoch 77/400\n",
      "\n",
      "Epoch 00077: val_loss did not improve from 0.01402\n",
      "165/165 - 25s - loss: 0.0442 - val_loss: 0.0439\n",
      "Epoch 78/400\n",
      "\n",
      "Epoch 00078: val_loss did not improve from 0.01402\n",
      "165/165 - 25s - loss: 0.0436 - val_loss: 0.0715\n",
      "Epoch 79/400\n",
      "\n",
      "Epoch 00079: val_loss did not improve from 0.01402\n",
      "165/165 - 25s - loss: 0.0430 - val_loss: 0.0497\n",
      "Epoch 80/400\n",
      "\n",
      "Epoch 00080: val_loss did not improve from 0.01402\n",
      "165/165 - 25s - loss: 0.0420 - val_loss: 0.0560\n",
      "Epoch 81/400\n",
      "\n",
      "Epoch 00081: val_loss did not improve from 0.01402\n",
      "165/165 - 25s - loss: 0.0427 - val_loss: 0.0402\n",
      "Epoch 00081: early stopping\n"
     ]
    },
    {
     "data": {
      "image/png": "[encoded data removed]",
      "text/plain": [
       "<Figure size 432x288 with 1 Axes>"
      ]
     },
     "metadata": {
      "needs_background": "light"
     },
     "output_type": "display_data"
    }
   ],
   "source": [
    "toggle_code()\n",
    "\n",
    "model = models[0]\n",
    "\n",
    "best_model_filepath = 'best_model_{}d_to_{}d'.format(d_lag, d_pre)\n",
    "\n",
    "es = tf.keras.callbacks.EarlyStopping(monitor='val_loss', mode='min', verbose=1, patience = patience_turn)\n",
    "\n",
    "mc = tf.keras.callbacks.ModelCheckpoint(filepath = best_model_filepath, monitor='val_loss', \n",
    "                             mode='min', verbose=1, save_best_only=True)\n",
    "\n",
    "history = model.fit(x_train, y_train, epochs=400, batch_size=32, validation_split=0.2, shuffle=False, \n",
    "                    verbose = 2, callbacks = [es, mc])\n",
    "\n",
    "plot_train_history(history, 'Training and Validation Loss')"
   ]
  },
  {
   "cell_type": "markdown",
   "metadata": {},
   "source": [
    "**Load the best model we have trained and use it to predict the future electricity loads (within your selected time frame).**\n",
    "\n",
    "Default is 1 days (see d_pre_days)\n",
    "\n",
    "A peek into the load predcition results (first several hours):"
   ]
  },
  {
   "cell_type": "code",
   "execution_count": 14,
   "metadata": {},
   "outputs": [
    {
     "data": {
      "text/html": [
       "\n",
       "<form action=\"javascript:code_toggle()\"><input type=\"submit\" id=\"toggleButton\" value=\"Show Source Code\"></form>\n"
      ],
      "text/plain": [
       "<IPython.core.display.HTML object>"
      ]
     },
     "metadata": {},
     "output_type": "display_data"
    },
    {
     "name": "stdout",
     "output_type": "stream",
     "text": [
      "INFO:tensorflow:Assets written to: best_model_5d_to_3h\\assets\n"
     ]
    },
    {
     "data": {
      "text/html": [
       "<div>\n",
       "<style scoped>\n",
       "    .dataframe tbody tr th:only-of-type {\n",
       "        vertical-align: middle;\n",
       "    }\n",
       "\n",
       "    .dataframe tbody tr th {\n",
       "        vertical-align: top;\n",
       "    }\n",
       "\n",
       "    .dataframe thead th {\n",
       "        text-align: right;\n",
       "    }\n",
       "</style>\n",
       "<table border=\"1\" class=\"dataframe\">\n",
       "  <thead>\n",
       "    <tr style=\"text-align: right;\">\n",
       "      <th></th>\n",
       "      <th>truth</th>\n",
       "      <th>predicted</th>\n",
       "    </tr>\n",
       "  </thead>\n",
       "  <tbody>\n",
       "    <tr>\n",
       "      <th>0</th>\n",
       "      <td>140.8</td>\n",
       "      <td>161.187363</td>\n",
       "    </tr>\n",
       "    <tr>\n",
       "      <th>1</th>\n",
       "      <td>139.4</td>\n",
       "      <td>160.323120</td>\n",
       "    </tr>\n",
       "    <tr>\n",
       "      <th>2</th>\n",
       "      <td>138.9</td>\n",
       "      <td>162.198593</td>\n",
       "    </tr>\n",
       "    <tr>\n",
       "      <th>3</th>\n",
       "      <td>139.8</td>\n",
       "      <td>163.879059</td>\n",
       "    </tr>\n",
       "    <tr>\n",
       "      <th>4</th>\n",
       "      <td>143.6</td>\n",
       "      <td>169.739105</td>\n",
       "    </tr>\n",
       "  </tbody>\n",
       "</table>\n",
       "</div>"
      ],
      "text/plain": [
       "   truth   predicted\n",
       "0  140.8  161.187363\n",
       "1  139.4  160.323120\n",
       "2  138.9  162.198593\n",
       "3  139.8  163.879059\n",
       "4  143.6  169.739105"
      ]
     },
     "execution_count": 14,
     "metadata": {},
     "output_type": "execute_result"
    }
   ],
   "source": [
    "toggle_code()\n",
    "\n",
    "#%%\n",
    "# reframe test set\n",
    "test_reframed = series_to_supervised(test_scaled, \n",
    "                                     n_lag_hours, n_pre_hours)\n",
    "\n",
    "# split into input and outputs\n",
    "x_test, y_test = test_reframed.values[:, :n_obs], \\\n",
    "    test_reframed.values[:, [-n_features * (n_pre_hours - i) for i in range(n_pre_hours)]]\n",
    "\n",
    "# reshape input to be 3D [samples, timesteps, features]\n",
    "x_test = x_test.reshape((x_test.shape[0], n_lag_hours, n_features))\n",
    "\n",
    "best_model_filepath_2 = 'best_model_{}d_to_{}h'.format(d_lag, n_pre_hours)\n",
    "\n",
    "model.save(best_model_filepath_2)\n",
    "\n",
    "saved_best_model = tf.keras.models.load_model(best_model_filepath_2)\n",
    "\n",
    "y_test_truth = []\n",
    "y_test_hat = []\n",
    "y_each_turn = {}\n",
    "\n",
    "for i in range(0, d_pre_days * 24, n_pre_hours):\n",
    "    \n",
    "    if i == 0:\n",
    "        \n",
    "        # reframe test inputs from each row\n",
    "        test_reframed_single_sample = test_reframed.iloc[i, :].values.reshape(1, -1)\n",
    "        x_test_single_sample = test_reframed_single_sample[:, :n_obs]\n",
    "        y_test_single_sample = test_reframed_single_sample[:, [-n_features * (n_pre_hours - i) for i in range(n_pre_hours)]]\n",
    "        \n",
    "        # reshape input to be 3D [samples, timesteps, features]\n",
    "        x_test_single_sample = x_test_single_sample.reshape((x_test_single_sample.shape[0], n_lag_hours, n_features))\n",
    "        \n",
    "        # predict\n",
    "        y_test_hat_single_sample = saved_best_model.predict(x_test_single_sample)\n",
    "        \n",
    "        # append to the list\n",
    "        y_test_truth.extend(y_test_single_sample)\n",
    "        y_test_hat.extend(y_test_hat_single_sample)\n",
    "        \n",
    "        # store prediction results in a dictionary\n",
    "        y_each_turn[i] = y_test_hat_single_sample\n",
    "        \n",
    "    else:\n",
    "        \n",
    "        # reframe test inputs from each row\n",
    "        test_reframed_single_sample = test_reframed.iloc[i, :].values.reshape(1, -1)\n",
    "        x_test_single_sample = test_reframed_single_sample[:, :n_obs]\n",
    "        y_test_single_sample = test_reframed_single_sample[:, [-n_features * (n_pre_hours - i) for i in range(n_pre_hours)]]\n",
    "        \n",
    "        # update test inputs with last turn's prediction results\n",
    "        x_test_single_sample[:, [-(n_features * (n_pre_hours - i + n_pre_hours)) \n",
    "                                 for i in range(n_pre_hours)]] = y_each_turn[i-n_pre_hours]\n",
    "        \n",
    "        # reshape input to be 3D [samples, timesteps, features]\n",
    "        x_test_single_sample = x_test_single_sample.reshape((x_test_single_sample.shape[0], n_lag_hours, n_features))\n",
    "        \n",
    "        # predict\n",
    "        y_test_hat_single_sample = saved_best_model.predict(x_test_single_sample)\n",
    "        \n",
    "        # append to the list\n",
    "        y_test_truth.extend(y_test_single_sample)\n",
    "        y_test_hat.extend(y_test_hat_single_sample)\n",
    "        \n",
    "        # store prediction results in a dictionary\n",
    "        y_each_turn[i] = y_test_hat_single_sample\n",
    "\n",
    "#%%\n",
    "# model prediction and invert back for comparison\n",
    "\n",
    "hist, truth, pred = create_Y_triplets(test_reframed, y_test_truth, y_test_hat, n_features, n_lag_hours, 0)\n",
    "\n",
    "y_test_compare = pd.concat([pd.DataFrame(np.expm1(truth)), \n",
    "                            pd.DataFrame(np.expm1(pred))], axis=1)\n",
    "\n",
    "y_test_compare.columns = ['truth', 'predicted']\n",
    "\n",
    "y_test_compare.head()"
   ]
  },
  {
   "cell_type": "markdown",
   "metadata": {},
   "source": [
    "**How does the model perform?**"
   ]
  },
  {
   "cell_type": "code",
   "execution_count": 15,
   "metadata": {},
   "outputs": [
    {
     "data": {
      "text/html": [
       "\n",
       "<form action=\"javascript:code_toggle()\"><input type=\"submit\" id=\"toggleButton\" value=\"Show Source Code\"></form>\n"
      ],
      "text/plain": [
       "<IPython.core.display.HTML object>"
      ]
     },
     "metadata": {},
     "output_type": "display_data"
    },
    {
     "name": "stdout",
     "output_type": "stream",
     "text": [
      "model score (RMSE) is: \n",
      " 29.11\n",
      "model score (CV_RMSE %) is: \n",
      " 13.11\n"
     ]
    }
   ],
   "source": [
    "toggle_code()\n",
    "\n",
    "#%%\n",
    "# model evaluation\n",
    "rmse, cv_rmse = model_score_rmse(y_test_compare.iloc[:, :])\n",
    "\n",
    "print('model score (RMSE) is: \\n', \"{:.2f}\".format(rmse))\n",
    "\n",
    "print('model score (CV_RMSE %) is: \\n', \"{:.2f}\".format(cv_rmse))"
   ]
  },
  {
   "cell_type": "markdown",
   "metadata": {},
   "source": [
    "**How does the baseline model perform?**\n",
    "\n",
    "The baseline model is the simple average of similar days in the past 3 weeks. You can modify parameters to tune your own baseline models."
   ]
  },
  {
   "cell_type": "code",
   "execution_count": 16,
   "metadata": {},
   "outputs": [
    {
     "data": {
      "text/html": [
       "\n",
       "<form action=\"javascript:code_toggle()\"><input type=\"submit\" id=\"toggleButton\" value=\"Show Source Code\"></form>\n"
      ],
      "text/plain": [
       "<IPython.core.display.HTML object>"
      ]
     },
     "metadata": {},
     "output_type": "display_data"
    },
    {
     "name": "stdout",
     "output_type": "stream",
     "text": [
      "baseline model score (RMSE) is: \n",
      " 48.55\n",
      "baseline model score (CV_RMSE %) is: \n",
      " 21.86\n"
     ]
    }
   ],
   "source": [
    "toggle_code()\n",
    "\n",
    "hist_reps = 3\n",
    "\n",
    "baseline = baseline_predict(train_scaled, test_scaled, n_lag_hours, d_pre_days, hist_reps)\n",
    "\n",
    "y_baseline_compare = pd.concat([pd.DataFrame(np.expm1(truth)), \n",
    "                            pd.DataFrame(np.expm1(baseline))], axis=1)\n",
    "\n",
    "y_baseline_compare.columns = ['truth', 'baseline']\n",
    "\n",
    "#%%\n",
    "# baseline evaluation\n",
    "baseline_rmse, baseline_cv_rmse = model_score_rmse(y_baseline_compare.iloc[:, :])\n",
    "\n",
    "print('baseline model score (RMSE) is: \\n', \"{:.2f}\".format(baseline_rmse))\n",
    "\n",
    "print('baseline model score (CV_RMSE %) is: \\n', \"{:.2f}\".format(baseline_cv_rmse))"
   ]
  },
  {
   "cell_type": "markdown",
   "metadata": {},
   "source": [
    "**Finally, we plot all results together.**"
   ]
  },
  {
   "cell_type": "code",
   "execution_count": 17,
   "metadata": {
    "scrolled": false
   },
   "outputs": [
    {
     "data": {
      "text/html": [
       "\n",
       "<form action=\"javascript:code_toggle()\"><input type=\"submit\" id=\"toggleButton\" value=\"Show Source Code\"></form>\n"
      ],
      "text/plain": [
       "<IPython.core.display.HTML object>"
      ]
     },
     "metadata": {},
     "output_type": "display_data"
    },
    {
     "data": {
      "image/png": "[encoded data removed]",
      "text/plain": [
       "<Figure size 864x432 with 1 Axes>"
      ]
     },
     "metadata": {
      "needs_background": "light"
     },
     "output_type": "display_data"
    }
   ],
   "source": [
    "toggle_code()\n",
    "\n",
    "# reg vs true profile comparison\n",
    "\n",
    "multi_step_plot(hist, truth, pred, baseline)"
   ]
  },
  {
   "cell_type": "code",
   "execution_count": null,
   "metadata": {},
   "outputs": [],
   "source": []
  }
 ],
 "metadata": {
  "celltoolbar": "Raw Cell Format",
  "kernelspec": {
   "display_name": "Python 3",
   "language": "python",
   "name": "python3"
  },
  "language_info": {
   "codemirror_mode": {
    "name": "ipython",
    "version": 3
   },
   "file_extension": ".py",
   "mimetype": "text/x-python",
   "name": "python",
   "nbconvert_exporter": "python",
   "pygments_lexer": "ipython3",
   "version": "3.7.7"
  }
 },
 "nbformat": 4,
 "nbformat_minor": 4
}
